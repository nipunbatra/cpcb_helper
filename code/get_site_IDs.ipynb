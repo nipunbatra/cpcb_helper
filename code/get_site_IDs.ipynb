{
 "cells": [
  {
   "cell_type": "code",
   "execution_count": 7,
   "metadata": {},
   "outputs": [],
   "source": [
    "try:\n",
    "    import selenium\n",
    "except ModuleNotFoundError:\n",
    "    %pip install selenium\n",
    "\n",
    "import numpy as np\n",
    "import pandas as pd\n",
    "\n",
    "from tqdm.notebook import tqdm\n",
    "from time import sleep\n",
    "from selenium import webdriver\n",
    "from selenium.webdriver.support.ui import Select\n",
    "from selenium.webdriver.common.by import By\n",
    "from selenium.webdriver.support.ui import WebDriverWait\n",
    "from selenium.webdriver.support import expected_conditions as EC"
   ]
  },
  {
   "cell_type": "code",
   "execution_count": 2,
   "metadata": {},
   "outputs": [],
   "source": [
    "def get_value(element):\n",
    "    value = element.get_attribute(\"value\")\n",
    "    if value == \"-1\":\n",
    "        return None\n",
    "    return value\n",
    "\n",
    "# Set up WebDriver\n",
    "driver = webdriver.Chrome()\n",
    "\n",
    "# Navigate to the website and manually solve the CAPTCHA\n",
    "driver.get(\"https://airquality.cpcb.gov.in/AQI_India/\")"
   ]
  },
  {
   "cell_type": "markdown",
   "metadata": {},
   "source": [
    "> At this point, go to the browser window and solve the CAPTCHA manually."
   ]
  },
  {
   "cell_type": "code",
   "execution_count": 5,
   "metadata": {},
   "outputs": [
    {
     "data": {
      "application/vnd.jupyter.widget-view+json": {
       "model_id": "06a0484e14d349ef88b1caada4014d87",
       "version_major": 2,
       "version_minor": 0
      },
      "text/plain": [
       "  0%|          | 0/1000 [00:00<?, ?it/s]"
      ]
     },
     "metadata": {},
     "output_type": "display_data"
    }
   ],
   "source": [
    "# Select state\n",
    "state_dropdown = Select(driver.find_element(By.ID, \"states\"))\n",
    "\n",
    "data_list = []\n",
    "pbar = tqdm(total=1000)\n",
    "for state_element in state_dropdown.options:\n",
    "    state_name = get_value(state_element)\n",
    "    if state_name is None:\n",
    "        continue\n",
    "    state_dropdown.select_by_value(state_name)\n",
    "    sleep(0.1)\n",
    "    city_dropdown = Select(driver.find_element(By.ID, \"cities\"))\n",
    "    for city_element in city_dropdown.options:\n",
    "        city_name = get_value(city_element)\n",
    "        if city_name is None:\n",
    "            continue\n",
    "        city_dropdown.select_by_value(city_name)\n",
    "        station_dropdown = Select(driver.find_element(By.ID, \"stations\"))\n",
    "        sleep(0.1)\n",
    "        for station_element in station_dropdown.options:\n",
    "            site_id = get_value(station_element)\n",
    "            if site_id is None:\n",
    "                continue\n",
    "            station_name = station_element.text\n",
    "            data_list.append((state_name, city_name, station_name, site_id))\n",
    "            pbar.update(1)"
   ]
  },
  {
   "cell_type": "code",
   "execution_count": 6,
   "metadata": {},
   "outputs": [
    {
     "data": {
      "text/plain": [
       "538"
      ]
     },
     "execution_count": 6,
     "metadata": {},
     "output_type": "execute_result"
    }
   ],
   "source": [
    "len(data_list)"
   ]
  },
  {
   "cell_type": "code",
   "execution_count": 9,
   "metadata": {},
   "outputs": [
    {
     "data": {
      "text/html": [
       "<div>\n",
       "<style scoped>\n",
       "    .dataframe tbody tr th:only-of-type {\n",
       "        vertical-align: middle;\n",
       "    }\n",
       "\n",
       "    .dataframe tbody tr th {\n",
       "        vertical-align: top;\n",
       "    }\n",
       "\n",
       "    .dataframe thead th {\n",
       "        text-align: right;\n",
       "    }\n",
       "</style>\n",
       "<table border=\"1\" class=\"dataframe\">\n",
       "  <thead>\n",
       "    <tr style=\"text-align: right;\">\n",
       "      <th></th>\n",
       "      <th>state</th>\n",
       "      <th>city</th>\n",
       "      <th>station</th>\n",
       "      <th>site_id</th>\n",
       "    </tr>\n",
       "  </thead>\n",
       "  <tbody>\n",
       "    <tr>\n",
       "      <th>0</th>\n",
       "      <td>Andhra Pradesh</td>\n",
       "      <td>Amaravati</td>\n",
       "      <td>Secretariat, Amaravati - APPCB</td>\n",
       "      <td>site_1406</td>\n",
       "    </tr>\n",
       "    <tr>\n",
       "      <th>1</th>\n",
       "      <td>Andhra Pradesh</td>\n",
       "      <td>Anantapur</td>\n",
       "      <td>Gulzarpet, Anantapur - APPCB</td>\n",
       "      <td>site_5632</td>\n",
       "    </tr>\n",
       "  </tbody>\n",
       "</table>\n",
       "</div>"
      ],
      "text/plain": [
       "            state       city                         station    site_id\n",
       "0  Andhra Pradesh  Amaravati  Secretariat, Amaravati - APPCB  site_1406\n",
       "1  Andhra Pradesh  Anantapur    Gulzarpet, Anantapur - APPCB  site_5632"
      ]
     },
     "execution_count": 9,
     "metadata": {},
     "output_type": "execute_result"
    }
   ],
   "source": [
    "df = pd.DataFrame(data_list, columns=[\"state\", \"city\", \"station\", \"site_id\"])\n",
    "df.head(2)"
   ]
  },
  {
   "cell_type": "code",
   "execution_count": 10,
   "metadata": {},
   "outputs": [],
   "source": [
    "df.to_csv(\"site_ids.csv\", index=None)"
   ]
  }
 ],
 "metadata": {
  "kernelspec": {
   "display_name": "base",
   "language": "python",
   "name": "python3"
  },
  "language_info": {
   "codemirror_mode": {
    "name": "ipython",
    "version": 3
   },
   "file_extension": ".py",
   "mimetype": "text/x-python",
   "name": "python",
   "nbconvert_exporter": "python",
   "pygments_lexer": "ipython3",
   "version": "3.12.2"
  }
 },
 "nbformat": 4,
 "nbformat_minor": 2
}
