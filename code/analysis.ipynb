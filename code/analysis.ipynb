{
 "cells": [
  {
   "cell_type": "code",
   "execution_count": 1,
   "metadata": {},
   "outputs": [],
   "source": [
    "from glob import glob"
   ]
  },
  {
   "cell_type": "code",
   "execution_count": 7,
   "metadata": {},
   "outputs": [
    {
     "data": {
      "text/plain": [
       "3080"
      ]
     },
     "execution_count": 7,
     "metadata": {},
     "output_type": "execute_result"
    }
   ],
   "source": [
    "direct_method_files = glob(\"../another_files/*/*/*/*.csv\")\n",
    "len(direct_method_files)"
   ]
  },
  {
   "cell_type": "code",
   "execution_count": 9,
   "metadata": {},
   "outputs": [
    {
     "data": {
      "text/plain": [
       "3048"
      ]
     },
     "execution_count": 9,
     "metadata": {},
     "output_type": "execute_result"
    }
   ],
   "source": [
    "indirect_method_files = glob(\"../files/*.csv\")\n",
    "len(indirect_method_files)"
   ]
  },
  {
   "cell_type": "code",
   "execution_count": 16,
   "metadata": {},
   "outputs": [
    {
     "data": {
      "text/plain": [
       "{'site_1392_Civil_Lines_Ajmer_RSPCB_15Min.csv',\n",
       " 'site_1422_Dwarka-Sector_8_Delhi_DPCC_15Min.csv',\n",
       " 'site_161_Sector-6_Panchkula_HSPCB_15Min.csv',\n",
       " 'site_5044_Municipal_Corporation_Office_Dharuhera_HSPCB_15Min.csv'}"
      ]
     },
     "execution_count": 16,
     "metadata": {},
     "output_type": "execute_result"
    }
   ],
   "source": [
    "formatted_direct_files = [f[f.index(\"site_\"):] for f in direct_method_files]\n",
    "formatted_indirect_files = [f[f.index(\"site_\"):] for f in indirect_method_files]\n",
    "\n",
    "set(formatted_indirect_files) - set(formatted_direct_files)"
   ]
  },
  {
   "cell_type": "markdown",
   "metadata": {},
   "source": [
    "This difference is due to ill formatted file names. Direct method has full coverage of all the files."
   ]
  }
 ],
 "metadata": {
  "kernelspec": {
   "display_name": "torch_gpu_py311",
   "language": "python",
   "name": "python3"
  },
  "language_info": {
   "codemirror_mode": {
    "name": "ipython",
    "version": 3
   },
   "file_extension": ".py",
   "mimetype": "text/x-python",
   "name": "python",
   "nbconvert_exporter": "python",
   "pygments_lexer": "ipython3",
   "version": "3.11.5"
  }
 },
 "nbformat": 4,
 "nbformat_minor": 2
}
