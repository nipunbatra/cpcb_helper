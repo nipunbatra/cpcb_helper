{
 "cells": [
  {
   "cell_type": "code",
   "execution_count": 70,
   "metadata": {},
   "outputs": [],
   "source": [
    "import pandas as pd\n",
    "from glob import glob\n",
    "import matplotlib.pyplot as plt"
   ]
  },
  {
   "cell_type": "code",
   "execution_count": 71,
   "metadata": {},
   "outputs": [
    {
     "name": "stdout",
     "output_type": "stream",
     "text": [
      "3062\n"
     ]
    },
    {
     "data": {
      "text/plain": [
       "'../another_files/Punjab/Khanna/Kalal Majra, Khanna - PPCB/Raw_data_15Min_2020_site_1450_Kalal_Majra_Khanna_PPCB_15Min.csv'"
      ]
     },
     "execution_count": 71,
     "metadata": {},
     "output_type": "execute_result"
    }
   ],
   "source": [
    "direct_method_files = glob(\"../another_files/*/*/*/*.csv\")\n",
    "print(len(direct_method_files))\n",
    "direct_method_files[0]"
   ]
  },
  {
   "cell_type": "code",
   "execution_count": 72,
   "metadata": {},
   "outputs": [
    {
     "name": "stdout",
     "output_type": "stream",
     "text": [
      "3048\n"
     ]
    },
    {
     "data": {
      "text/plain": [
       "'../files/2021_site_5124_Urban_Chamarajanagar_KSPCB_15Min.csv'"
      ]
     },
     "execution_count": 72,
     "metadata": {},
     "output_type": "execute_result"
    }
   ],
   "source": [
    "indirect_method_files = glob(\"../files/*.csv\")\n",
    "print(len(indirect_method_files))\n",
    "indirect_method_files[0]"
   ]
  },
  {
   "cell_type": "code",
   "execution_count": 73,
   "metadata": {},
   "outputs": [
    {
     "name": "stdout",
     "output_type": "stream",
     "text": [
      "14\n"
     ]
    }
   ],
   "source": [
    "diff = len(direct_method_files) - len(indirect_method_files)\n",
    "print(diff)"
   ]
  },
  {
   "cell_type": "code",
   "execution_count": 74,
   "metadata": {},
   "outputs": [
    {
     "data": {
      "text/plain": [
       "set()"
      ]
     },
     "execution_count": 74,
     "metadata": {},
     "output_type": "execute_result"
    }
   ],
   "source": [
    "formatted_direct_files = [f[f.index(\"site_\")-5:].replace(\"__\", \"_\") for f in direct_method_files]\n",
    "formatted_indirect_files = [f[f.index(\"site_\")-5:].replace(\"__\", \"_\") for f in indirect_method_files]\n",
    "\n",
    "set(formatted_indirect_files) - set(formatted_direct_files)"
   ]
  },
  {
   "cell_type": "markdown",
   "metadata": {},
   "source": [
    "This difference is due to ill formatted file names. Direct method has full coverage of all the files."
   ]
  },
  {
   "cell_type": "code",
   "execution_count": 75,
   "metadata": {},
   "outputs": [
    {
     "name": "stdout",
     "output_type": "stream",
     "text": [
      "2017_site_257_PWD_Grounds_Vijayawada_APPCB_15Min.csv\n",
      "2018_site_257_PWD_Grounds_Vijayawada_APPCB_15Min.csv\n",
      "2018_site_1405_Nishant_Ganj_Lucknow_UPPCB_15Min.csv\n",
      "2023_site_257_PWD_Grounds_Vijayawada_APPCB_15Min.csv\n",
      "2022_site_1405_Nishant_Ganj_Lucknow_UPPCB_15Min.csv\n",
      "2021_site_257_PWD_Grounds_Vijayawada_APPCB_15Min.csv\n",
      "2022_site_257_PWD_Grounds_Vijayawada_APPCB_15Min.csv\n",
      "2020_site_257_PWD_Grounds_Vijayawada_APPCB_15Min.csv\n",
      "2021_site_1405_Nishant_Ganj_Lucknow_UPPCB_15Min.csv\n",
      "2023_site_1405_Nishant_Ganj_Lucknow_UPPCB_15Min.csv\n",
      "2017_site_1405_Nishant_Ganj_Lucknow_UPPCB_15Min.csv\n",
      "2019_site_257_PWD_Grounds_Vijayawada_APPCB_15Min.csv\n",
      "2019_site_1405_Nishant_Ganj_Lucknow_UPPCB_15Min.csv\n",
      "2020_site_1405_Nishant_Ganj_Lucknow_UPPCB_15Min.csv\n",
      "14\n"
     ]
    }
   ],
   "source": [
    "print(*(set(formatted_direct_files) - set(formatted_indirect_files)), sep=\"\\n\")\n",
    "print(len(set(formatted_direct_files) - set(formatted_indirect_files)))"
   ]
  },
  {
   "cell_type": "code",
   "execution_count": 76,
   "metadata": {},
   "outputs": [
    {
     "data": {
      "text/plain": [
       "2020_site_1450_Kalal_Majra_Khanna_PPCB_15Min.csv          1\n",
       "2019_site_5661_Maharaj_Bada_Gwalior_MPPCB_15Min.csv       1\n",
       "2018_site_5250_Gole_Bazar_Katni_MPPCB_15Min.csv           1\n",
       "2021_site_5040_Shrivastav_Colony_Damoh_MPPCB_15Min.csv    1\n",
       "2018_site_5040_Shrivastav_Colony_Damoh_MPPCB_15Min.csv    1\n",
       "2022_site_5040_Shrivastav_Colony_Damoh_MPPCB_15Min.csv    1\n",
       "2019_site_5040_Shrivastav_Colony_Damoh_MPPCB_15Min.csv    1\n",
       "2023_site_5040_Shrivastav_Colony_Damoh_MPPCB_15Min.csv    1\n",
       "2020_site_5040_Shrivastav_Colony_Damoh_MPPCB_15Min.csv    1\n",
       "2017_site_5040_Shrivastav_Colony_Damoh_MPPCB_15Min.csv    1\n",
       "2023_site_5661_Maharaj_Bada_Gwalior_MPPCB_15Min.csv       1\n",
       "2021_site_5661_Maharaj_Bada_Gwalior_MPPCB_15Min.csv       1\n",
       "2019_site_5250_Gole_Bazar_Katni_MPPCB_15Min.csv           1\n",
       "2022_site_5661_Maharaj_Bada_Gwalior_MPPCB_15Min.csv       1\n",
       "2020_site_5661_Maharaj_Bada_Gwalior_MPPCB_15Min.csv       1\n",
       "2018_site_5661_Maharaj_Bada_Gwalior_MPPCB_15Min.csv       1\n",
       "2017_site_5661_Maharaj_Bada_Gwalior_MPPCB_15Min.csv       1\n",
       "2017_site_5273_City_Center_Gwalior_MPPCB_15Min.csv        1\n",
       "Name: count, dtype: int64"
      ]
     },
     "execution_count": 76,
     "metadata": {},
     "output_type": "execute_result"
    }
   ],
   "source": [
    "pd.Series(formatted_direct_files).value_counts().head(18)"
   ]
  },
  {
   "cell_type": "code",
   "execution_count": 77,
   "metadata": {},
   "outputs": [
    {
     "name": "stdout",
     "output_type": "stream",
     "text": [
      "../another_files/Maharashtra/Aurangabad/Rachnakar Colony, Aurangabad - MPCB/Raw_data_15Min_2023_site_5789_Rachnakar_Colony_Aurangabad_MPCB_15Min.csv\n"
     ]
    }
   ],
   "source": [
    "for file in direct_method_files:\n",
    "    if \"2023_site_5789_Rachnakar_Colony_Aurangabad_MPCB_15Min\" in file:\n",
    "        print(file)"
   ]
  },
  {
   "cell_type": "markdown",
   "metadata": {},
   "source": [
    "## Check statistics"
   ]
  },
  {
   "cell_type": "code",
   "execution_count": 78,
   "metadata": {},
   "outputs": [
    {
     "name": "stdout",
     "output_type": "stream",
     "text": [
      "2936\n",
      "../nc_files/Punjab/Khanna/Kalal Majra, Khanna - PPCB/Raw_data_15Min_2023_site_1450_Kalal_Majra_Khanna_PPCB_15Min.nc\n",
      "2936\n"
     ]
    },
    {
     "data": {
      "text/plain": [
       "'Raw_data_15Min_2017_site_5341_Sector_30_Faridabad_HSPCB_15Min.nc'"
      ]
     },
     "execution_count": 78,
     "metadata": {},
     "output_type": "execute_result"
    }
   ],
   "source": [
    "nc_files = glob(\"../nc_files/*/*/*/*.nc\")\n",
    "print(len(nc_files))\n",
    "print(nc_files[0])\n",
    "nc_file_names = list(set([file.split(\"/\")[-1] for file in nc_files]))\n",
    "print(len(nc_file_names))\n",
    "nc_file_names[0]"
   ]
  },
  {
   "cell_type": "code",
   "execution_count": 79,
   "metadata": {},
   "outputs": [
    {
     "data": {
      "text/plain": [
       "31"
      ]
     },
     "execution_count": 79,
     "metadata": {},
     "output_type": "execute_result"
    }
   ],
   "source": [
    "states = [f.split(\"/\")[-4] for f in nc_files]\n",
    "len(set(states))"
   ]
  },
  {
   "cell_type": "code",
   "execution_count": 80,
   "metadata": {},
   "outputs": [
    {
     "name": "stdout",
     "output_type": "stream",
     "text": [
      "279\n"
     ]
    },
    {
     "data": {
      "text/plain": [
       "'Khanna'"
      ]
     },
     "execution_count": 80,
     "metadata": {},
     "output_type": "execute_result"
    }
   ],
   "source": [
    "cities = [f.split(\"/\")[-3] for f in nc_files]\n",
    "print(len(set(cities)))\n",
    "cities[0]"
   ]
  },
  {
   "cell_type": "code",
   "execution_count": 81,
   "metadata": {},
   "outputs": [
    {
     "name": "stdout",
     "output_type": "stream",
     "text": [
      "537\n"
     ]
    },
    {
     "data": {
      "text/plain": [
       "'5341'"
      ]
     },
     "execution_count": 81,
     "metadata": {},
     "output_type": "execute_result"
    }
   ],
   "source": [
    "stations = [f.split(\"_\")[5] for f in nc_file_names]\n",
    "print(len(set(stations)))\n",
    "stations[0]"
   ]
  },
  {
   "cell_type": "code",
   "execution_count": 82,
   "metadata": {},
   "outputs": [
    {
     "name": "stdout",
     "output_type": "stream",
     "text": [
      "2936\n"
     ]
    },
    {
     "data": {
      "image/png": "[encoded data removed]",
      "text/plain": [
       "<Figure size 800x300 with 1 Axes>"
      ]
     },
     "metadata": {},
     "output_type": "display_data"
    }
   ],
   "source": [
    "years = [f.split(\"/\")[-1].split(\"_\")[3] for f in nc_file_names]\n",
    "\n",
    "fig, ax = plt.subplots(figsize=(8,3))\n",
    "sr = pd.Series(years)\n",
    "sr.value_counts().sort_index().plot(kind=\"bar\", ax=ax, color='skyblue')\n",
    "# annotate\n",
    "for i, v in enumerate(pd.Series(years).value_counts().sort_index()):\n",
    "    ax.text(i, v-50, str(v), color='tab:red', ha='center', size=15)\n",
    "    \n",
    "plt.ylabel(\"Number of stations\")\n",
    "plt.tight_layout()\n",
    "print(sr.value_counts().sum())"
   ]
  }
 ],
 "metadata": {
  "kernelspec": {
   "display_name": "torch_gpu_py311",
   "language": "python",
   "name": "python3"
  },
  "language_info": {
   "codemirror_mode": {
    "name": "ipython",
    "version": 3
   },
   "file_extension": ".py",
   "mimetype": "text/x-python",
   "name": "python",
   "nbconvert_exporter": "python",
   "pygments_lexer": "ipython3",
   "version": "3.11.5"
  }
 },
 "nbformat": 4,
 "nbformat_minor": 2
}
