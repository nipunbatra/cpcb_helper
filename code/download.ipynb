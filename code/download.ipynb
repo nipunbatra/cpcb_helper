{
 "cells": [
  {
   "cell_type": "code",
   "execution_count": 1,
   "metadata": {},
   "outputs": [],
   "source": [
    "import requests\n",
    "import re\n",
    "import pandas as pd\n",
    "import psutil\n",
    "from joblib import Parallel, delayed\n",
    "from tqdm.notebook import tqdm"
   ]
  },
  {
   "cell_type": "code",
   "execution_count": 2,
   "metadata": {},
   "outputs": [
    {
     "data": {
      "text/html": [
       "<div>\n",
       "<style scoped>\n",
       "    .dataframe tbody tr th:only-of-type {\n",
       "        vertical-align: middle;\n",
       "    }\n",
       "\n",
       "    .dataframe tbody tr th {\n",
       "        vertical-align: top;\n",
       "    }\n",
       "\n",
       "    .dataframe thead th {\n",
       "        text-align: right;\n",
       "    }\n",
       "</style>\n",
       "<table border=\"1\" class=\"dataframe\">\n",
       "  <thead>\n",
       "    <tr style=\"text-align: right;\">\n",
       "      <th></th>\n",
       "      <th>state</th>\n",
       "      <th>city</th>\n",
       "      <th>station</th>\n",
       "      <th>site_id</th>\n",
       "    </tr>\n",
       "  </thead>\n",
       "  <tbody>\n",
       "    <tr>\n",
       "      <th>0</th>\n",
       "      <td>Andhra Pradesh</td>\n",
       "      <td>Amaravati</td>\n",
       "      <td>Secretariat, Amaravati - APPCB</td>\n",
       "      <td>site_1406</td>\n",
       "    </tr>\n",
       "    <tr>\n",
       "      <th>1</th>\n",
       "      <td>Andhra Pradesh</td>\n",
       "      <td>Anantapur</td>\n",
       "      <td>Gulzarpet, Anantapur - APPCB</td>\n",
       "      <td>site_5632</td>\n",
       "    </tr>\n",
       "    <tr>\n",
       "      <th>2</th>\n",
       "      <td>Andhra Pradesh</td>\n",
       "      <td>Chittoor</td>\n",
       "      <td>Gangineni Cheruvu, Chittoor - APPCB</td>\n",
       "      <td>site_5665</td>\n",
       "    </tr>\n",
       "    <tr>\n",
       "      <th>3</th>\n",
       "      <td>Andhra Pradesh</td>\n",
       "      <td>Kadapa</td>\n",
       "      <td>Yerramukkapalli, Kadapa - APPCB</td>\n",
       "      <td>site_5693</td>\n",
       "    </tr>\n",
       "    <tr>\n",
       "      <th>4</th>\n",
       "      <td>Andhra Pradesh</td>\n",
       "      <td>Rajamahendravaram</td>\n",
       "      <td>Anand Kala Kshetram, Rajamahendravaram - APPCB</td>\n",
       "      <td>site_1399</td>\n",
       "    </tr>\n",
       "    <tr>\n",
       "      <th>5</th>\n",
       "      <td>Andhra Pradesh</td>\n",
       "      <td>Tirupati</td>\n",
       "      <td>Tirumala, Tirupati - APPCB</td>\n",
       "      <td>site_258</td>\n",
       "    </tr>\n",
       "    <tr>\n",
       "      <th>6</th>\n",
       "      <td>Andhra Pradesh</td>\n",
       "      <td>Tirupati</td>\n",
       "      <td>Vaikuntapuram, Tirupati - APPCB</td>\n",
       "      <td>site_5666</td>\n",
       "    </tr>\n",
       "    <tr>\n",
       "      <th>7</th>\n",
       "      <td>Andhra Pradesh</td>\n",
       "      <td>Vijayawada</td>\n",
       "      <td>HB Colony, Vijayawada - APPCB</td>\n",
       "      <td>site_5848</td>\n",
       "    </tr>\n",
       "    <tr>\n",
       "      <th>8</th>\n",
       "      <td>Andhra Pradesh</td>\n",
       "      <td>Vijayawada</td>\n",
       "      <td>Kanuru, Vijayawada - APPCB</td>\n",
       "      <td>site_5685</td>\n",
       "    </tr>\n",
       "    <tr>\n",
       "      <th>9</th>\n",
       "      <td>Andhra Pradesh</td>\n",
       "      <td>Vijayawada</td>\n",
       "      <td>Rajiv Gandhi Park, Vijayawada - APPCB</td>\n",
       "      <td>site_5849</td>\n",
       "    </tr>\n",
       "  </tbody>\n",
       "</table>\n",
       "</div>"
      ],
      "text/plain": [
       "            state               city  \\\n",
       "0  Andhra Pradesh          Amaravati   \n",
       "1  Andhra Pradesh          Anantapur   \n",
       "2  Andhra Pradesh           Chittoor   \n",
       "3  Andhra Pradesh             Kadapa   \n",
       "4  Andhra Pradesh  Rajamahendravaram   \n",
       "5  Andhra Pradesh           Tirupati   \n",
       "6  Andhra Pradesh           Tirupati   \n",
       "7  Andhra Pradesh         Vijayawada   \n",
       "8  Andhra Pradesh         Vijayawada   \n",
       "9  Andhra Pradesh         Vijayawada   \n",
       "\n",
       "                                          station    site_id  \n",
       "0                  Secretariat, Amaravati - APPCB  site_1406  \n",
       "1                    Gulzarpet, Anantapur - APPCB  site_5632  \n",
       "2             Gangineni Cheruvu, Chittoor - APPCB  site_5665  \n",
       "3                 Yerramukkapalli, Kadapa - APPCB  site_5693  \n",
       "4  Anand Kala Kshetram, Rajamahendravaram - APPCB  site_1399  \n",
       "5                      Tirumala, Tirupati - APPCB   site_258  \n",
       "6                 Vaikuntapuram, Tirupati - APPCB  site_5666  \n",
       "7                   HB Colony, Vijayawada - APPCB  site_5848  \n",
       "8                      Kanuru, Vijayawada - APPCB  site_5685  \n",
       "9           Rajiv Gandhi Park, Vijayawada - APPCB  site_5849  "
      ]
     },
     "execution_count": 2,
     "metadata": {},
     "output_type": "execute_result"
    }
   ],
   "source": [
    "df = pd.read_csv(\"site_ids.csv\")\n",
    "df.head(10)"
   ]
  },
  {
   "cell_type": "markdown",
   "metadata": {},
   "source": [
    "Example URL: https://airquality.cpcb.gov.in/dataRepository/download_file?file_name=Raw_data/15Min/2023/site_1421_Dr._Karni_Singh_Shooting_Range_Delhi_DPCC_15Min.csv"
   ]
  },
  {
   "cell_type": "code",
   "execution_count": 3,
   "metadata": {},
   "outputs": [],
   "source": [
    "def process_station_name(station):\n",
    "    # replace \"-\", \",\" and \" \" (space) with underscore \"_\"\n",
    "    return station.replace(\", \", \"_\").replace(\" - \", \"_\").replace(\" \", \"_\").replace(\",\", \"_\")\n",
    "\n",
    "def get_url(row, year):\n",
    "    processed_station_name = process_station_name(row.station)\n",
    "    return f\"https://airquality.cpcb.gov.in/dataRepository/download_file?file_name=Raw_data/15Min/{year}/{row.site_id}_{processed_station_name}_15Min.csv\"\n",
    "\n",
    "URLs = []\n",
    "for index, row in df.iterrows():\n",
    "    for year in range(2017, 2024):\n",
    "        URLs.append(get_url(row, year))"
   ]
  },
  {
   "cell_type": "code",
   "execution_count": 4,
   "metadata": {},
   "outputs": [
    {
     "data": {
      "text/plain": [
       "3766"
      ]
     },
     "execution_count": 4,
     "metadata": {},
     "output_type": "execute_result"
    }
   ],
   "source": [
    "len(URLs)"
   ]
  },
  {
   "cell_type": "markdown",
   "metadata": {},
   "source": [
    "## Download"
   ]
  },
  {
   "cell_type": "code",
   "execution_count": 5,
   "metadata": {},
   "outputs": [
    {
     "data": {
      "application/vnd.jupyter.widget-view+json": {
       "model_id": "8891c50cef1642a08234c39b3aaf0839",
       "version_major": 2,
       "version_minor": 0
      },
      "text/plain": [
       "  0%|          | 0/3766 [00:00<?, ?it/s]"
      ]
     },
     "metadata": {},
     "output_type": "display_data"
    },
    {
     "data": {
      "text/plain": [
       "3048"
      ]
     },
     "execution_count": 5,
     "metadata": {},
     "output_type": "execute_result"
    }
   ],
   "source": [
    "downloaded_urls = []\n",
    "for url in tqdm(URLs):\n",
    "    year_part = url.split('/')[-2]\n",
    "    station_part = url.split('/')[-1]\n",
    "    save_path = f\"../files/{year_part}_{station_part}\"\n",
    "    try:\n",
    "        df = pd.read_csv(save_path, nrows=1)\n",
    "        downloaded_urls.append(url)\n",
    "    except FileNotFoundError:\n",
    "        continue\n",
    "\n",
    "len(downloaded_urls)"
   ]
  },
  {
   "cell_type": "code",
   "execution_count": 6,
   "metadata": {},
   "outputs": [
    {
     "name": "stdout",
     "output_type": "stream",
     "text": [
      "Total URLs: 3766\n",
      "Downloaded URLs: 3048\n",
      "Remaining URLs: 718\n",
      "Running download on 32 CPUs\n"
     ]
    },
    {
     "data": {
      "application/vnd.jupyter.widget-view+json": {
       "model_id": "ffed7cec26524c44843655ecd2b01c77",
       "version_major": 2,
       "version_minor": 0
      },
      "text/plain": [
       "  0%|          | 0/5 [00:00<?, ?it/s]"
      ]
     },
     "metadata": {},
     "output_type": "display_data"
    }
   ],
   "source": [
    "def download_fn(url):\n",
    "    year_part = url.split('/')[-2]\n",
    "    station_part = url.split('/')[-1]\n",
    "    save_path = f\"../files/{year_part}_{station_part}\"\n",
    "    # print(\"Downaloding URL:\", url, \"to\", save_path)\n",
    "    response = requests.get(url)\n",
    "    if response.status_code == 200:\n",
    "        with open(save_path, 'wb') as f:\n",
    "            f.write(response.content)\n",
    "            \n",
    "    # some urls have multiple consecutive \"_\" in them. We try all combinations of \"_\" to find the correct url\n",
    "    elif response.status_code == 500:\n",
    "        # find index of all \"_\" in the url\n",
    "        indices = [i for i, a in enumerate(url) if a == '_']\n",
    "        # insert \"_\" for each of the indices one by one and try to download\n",
    "        for i in indices:\n",
    "            new_url = url[:i] + \"_\" + url[i:]\n",
    "            response = requests.get(new_url)\n",
    "            if response.status_code == 200:\n",
    "                with open(save_path, 'wb') as f:\n",
    "                    f.write(response.content)\n",
    "                break\n",
    "    \n",
    "remaining_urls = sorted(set(URLs) - set(downloaded_urls))\n",
    "print(\"Total URLs:\", len(URLs))\n",
    "print(\"Downloaded URLs:\", len(downloaded_urls))\n",
    "print(\"Remaining URLs:\", len(remaining_urls))\n",
    "\n",
    "n_cpus = psutil.cpu_count()\n",
    "cpus_to_use = max(1, n_cpus//2)\n",
    "print(\"Running download on\", cpus_to_use, \"CPUs\")\n",
    "\n",
    "if len(remaining_urls) == 0:\n",
    "    print(\"All files are downloaded\")\n",
    "else:\n",
    "    Parallel(n_jobs=cpus_to_use)(delayed(download_fn)(url) for url in tqdm(remaining_urls[:5]))\n",
    "    pass"
   ]
  },
  {
   "cell_type": "code",
   "execution_count": 8,
   "metadata": {},
   "outputs": [
    {
     "data": {
      "text/plain": [
       "['https://airquality.cpcb.gov.in/dataRepository/download_file?file_name=Raw_data/15Min/2017/site_5938_Forest_Office_Barbil_OSPCB_15Min.csv',\n",
       " 'https://airquality.cpcb.gov.in/dataRepository/download_file?file_name=Raw_data/15Min/2017/site_5939_Hakimapada_Angul_OSPCB_15Min.csv',\n",
       " 'https://airquality.cpcb.gov.in/dataRepository/download_file?file_name=Raw_data/15Min/2017/site_5940_Lingraj_Mandir_Bhubaneswar_OSPCB_15Min.csv']"
      ]
     },
     "execution_count": 8,
     "metadata": {},
     "output_type": "execute_result"
    }
   ],
   "source": [
    "remaining_urls[12:15]"
   ]
  }
 ],
 "metadata": {
  "kernelspec": {
   "display_name": "base",
   "language": "python",
   "name": "python3"
  },
  "language_info": {
   "codemirror_mode": {
    "name": "ipython",
    "version": 3
   },
   "file_extension": ".py",
   "mimetype": "text/x-python",
   "name": "python",
   "nbconvert_exporter": "python",
   "pygments_lexer": "ipython3",
   "version": "3.11.5"
  }
 },
 "nbformat": 4,
 "nbformat_minor": 2
}
