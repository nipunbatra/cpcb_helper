{
 "cells": [
  {
   "cell_type": "code",
   "execution_count": 1,
   "metadata": {},
   "outputs": [],
   "source": [
    "import os\n",
    "import re\n",
    "import pandas as pd"
   ]
  },
  {
   "cell_type": "code",
   "execution_count": 2,
   "metadata": {},
   "outputs": [
    {
     "data": {
      "text/html": [
       "<div>\n",
       "<style scoped>\n",
       "    .dataframe tbody tr th:only-of-type {\n",
       "        vertical-align: middle;\n",
       "    }\n",
       "\n",
       "    .dataframe tbody tr th {\n",
       "        vertical-align: top;\n",
       "    }\n",
       "\n",
       "    .dataframe thead th {\n",
       "        text-align: right;\n",
       "    }\n",
       "</style>\n",
       "<table border=\"1\" class=\"dataframe\">\n",
       "  <thead>\n",
       "    <tr style=\"text-align: right;\">\n",
       "      <th></th>\n",
       "      <th>state</th>\n",
       "      <th>city</th>\n",
       "      <th>station</th>\n",
       "      <th>site_id</th>\n",
       "    </tr>\n",
       "  </thead>\n",
       "  <tbody>\n",
       "    <tr>\n",
       "      <th>0</th>\n",
       "      <td>Andhra Pradesh</td>\n",
       "      <td>Amaravati</td>\n",
       "      <td>Secretariat, Amaravati - APPCB</td>\n",
       "      <td>site_1406</td>\n",
       "    </tr>\n",
       "    <tr>\n",
       "      <th>1</th>\n",
       "      <td>Andhra Pradesh</td>\n",
       "      <td>Anantapur</td>\n",
       "      <td>Gulzarpet, Anantapur - APPCB</td>\n",
       "      <td>site_5632</td>\n",
       "    </tr>\n",
       "    <tr>\n",
       "      <th>2</th>\n",
       "      <td>Andhra Pradesh</td>\n",
       "      <td>Chittoor</td>\n",
       "      <td>Gangineni Cheruvu, Chittoor - APPCB</td>\n",
       "      <td>site_5665</td>\n",
       "    </tr>\n",
       "    <tr>\n",
       "      <th>3</th>\n",
       "      <td>Andhra Pradesh</td>\n",
       "      <td>Kadapa</td>\n",
       "      <td>Yerramukkapalli, Kadapa - APPCB</td>\n",
       "      <td>site_5693</td>\n",
       "    </tr>\n",
       "    <tr>\n",
       "      <th>4</th>\n",
       "      <td>Andhra Pradesh</td>\n",
       "      <td>Rajamahendravaram</td>\n",
       "      <td>Anand Kala Kshetram, Rajamahendravaram - APPCB</td>\n",
       "      <td>site_1399</td>\n",
       "    </tr>\n",
       "    <tr>\n",
       "      <th>5</th>\n",
       "      <td>Andhra Pradesh</td>\n",
       "      <td>Tirupati</td>\n",
       "      <td>Tirumala, Tirupati - APPCB</td>\n",
       "      <td>site_258</td>\n",
       "    </tr>\n",
       "    <tr>\n",
       "      <th>6</th>\n",
       "      <td>Andhra Pradesh</td>\n",
       "      <td>Tirupati</td>\n",
       "      <td>Vaikuntapuram, Tirupati - APPCB</td>\n",
       "      <td>site_5666</td>\n",
       "    </tr>\n",
       "    <tr>\n",
       "      <th>7</th>\n",
       "      <td>Andhra Pradesh</td>\n",
       "      <td>Vijayawada</td>\n",
       "      <td>HB Colony, Vijayawada - APPCB</td>\n",
       "      <td>site_5848</td>\n",
       "    </tr>\n",
       "    <tr>\n",
       "      <th>8</th>\n",
       "      <td>Andhra Pradesh</td>\n",
       "      <td>Vijayawada</td>\n",
       "      <td>Kanuru, Vijayawada - APPCB</td>\n",
       "      <td>site_5685</td>\n",
       "    </tr>\n",
       "    <tr>\n",
       "      <th>9</th>\n",
       "      <td>Andhra Pradesh</td>\n",
       "      <td>Vijayawada</td>\n",
       "      <td>Rajiv Gandhi Park, Vijayawada - APPCB</td>\n",
       "      <td>site_5849</td>\n",
       "    </tr>\n",
       "  </tbody>\n",
       "</table>\n",
       "</div>"
      ],
      "text/plain": [
       "            state               city  \\\n",
       "0  Andhra Pradesh          Amaravati   \n",
       "1  Andhra Pradesh          Anantapur   \n",
       "2  Andhra Pradesh           Chittoor   \n",
       "3  Andhra Pradesh             Kadapa   \n",
       "4  Andhra Pradesh  Rajamahendravaram   \n",
       "5  Andhra Pradesh           Tirupati   \n",
       "6  Andhra Pradesh           Tirupati   \n",
       "7  Andhra Pradesh         Vijayawada   \n",
       "8  Andhra Pradesh         Vijayawada   \n",
       "9  Andhra Pradesh         Vijayawada   \n",
       "\n",
       "                                          station    site_id  \n",
       "0                  Secretariat, Amaravati - APPCB  site_1406  \n",
       "1                    Gulzarpet, Anantapur - APPCB  site_5632  \n",
       "2             Gangineni Cheruvu, Chittoor - APPCB  site_5665  \n",
       "3                 Yerramukkapalli, Kadapa - APPCB  site_5693  \n",
       "4  Anand Kala Kshetram, Rajamahendravaram - APPCB  site_1399  \n",
       "5                      Tirumala, Tirupati - APPCB   site_258  \n",
       "6                 Vaikuntapuram, Tirupati - APPCB  site_5666  \n",
       "7                   HB Colony, Vijayawada - APPCB  site_5848  \n",
       "8                      Kanuru, Vijayawada - APPCB  site_5685  \n",
       "9           Rajiv Gandhi Park, Vijayawada - APPCB  site_5849  "
      ]
     },
     "execution_count": 2,
     "metadata": {},
     "output_type": "execute_result"
    }
   ],
   "source": [
    "df = pd.read_csv(\"site_ids.csv\")\n",
    "df.head(10)"
   ]
  },
  {
   "cell_type": "markdown",
   "metadata": {},
   "source": [
    "Example URL: https://airquality.cpcb.gov.in/dataRepository/download_file?file_name=Raw_data/15Min/2023/site_1421_Dr._Karni_Singh_Shooting_Range_Delhi_DPCC_15Min.csv"
   ]
  },
  {
   "cell_type": "code",
   "execution_count": 3,
   "metadata": {},
   "outputs": [],
   "source": [
    "def process_station_name(station):\n",
    "    # replace \"-\", \",\" and \" \" (space) with underscore \"_\"\n",
    "    return re.sub(\"[-, ]+\", \"_\", station)\n",
    "\n",
    "def get_url(row, year):\n",
    "    processed_station_name = process_station_name(row.station)\n",
    "    return f\"https://airquality.cpcb.gov.in/dataRepository/download_file?file_name=Raw_data/15Min/{year}/{row.site_id}_{processed_station_name}_15Min.csv\"\n",
    "\n",
    "URLs = []\n",
    "for index, row in df.iterrows():\n",
    "    for year in range(2017, 2024):\n",
    "        URLs.append(get_url(row, year))"
   ]
  },
  {
   "cell_type": "code",
   "execution_count": 4,
   "metadata": {},
   "outputs": [
    {
     "data": {
      "text/plain": [
       "3766"
      ]
     },
     "execution_count": 4,
     "metadata": {},
     "output_type": "execute_result"
    }
   ],
   "source": [
    "len(URLs)"
   ]
  },
  {
   "cell_type": "markdown",
   "metadata": {},
   "source": [
    "## Download"
   ]
  },
  {
   "cell_type": "code",
   "execution_count": 5,
   "metadata": {},
   "outputs": [
    {
     "name": "stderr",
     "output_type": "stream",
     "text": [
      "  % Total    % Received % Xferd  Average Speed   Time    Time     Time  Current\n",
      "                                 Dload  Upload   Total   Spent    Left  Speed\n",
      "100 3341k  100 3341k    0     0   598k      0  0:00:05  0:00:05 --:--:--  767k\n"
     ]
    }
   ],
   "source": [
    "for url in URLs:\n",
    "    # download file to files folder with curl\n",
    "    os.system(f\"curl {url} > ../files/{url.split('/')[-1]}\")\n",
    "    break"
   ]
  }
 ],
 "metadata": {
  "kernelspec": {
   "display_name": "base",
   "language": "python",
   "name": "python3"
  },
  "language_info": {
   "codemirror_mode": {
    "name": "ipython",
    "version": 3
   },
   "file_extension": ".py",
   "mimetype": "text/x-python",
   "name": "python",
   "nbconvert_exporter": "python",
   "pygments_lexer": "ipython3",
   "version": "3.12.2"
  }
 },
 "nbformat": 4,
 "nbformat_minor": 2
}
