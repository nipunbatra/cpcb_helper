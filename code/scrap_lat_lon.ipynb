{
 "cells": [
  {
   "cell_type": "code",
   "execution_count": 243,
   "metadata": {},
   "outputs": [
    {
     "name": "stdout",
     "output_type": "stream",
     "text": [
      "rm: log.txt: No such file or directory\n"
     ]
    }
   ],
   "source": [
    "try:\n",
    "    import selenium\n",
    "except ModuleNotFoundError:\n",
    "    %pip install selenium\n",
    "\n",
    "import os\n",
    "import re\n",
    "import numpy as np\n",
    "import pandas as pd\n",
    "\n",
    "from tqdm.notebook import tqdm, trange\n",
    "from time import sleep, time\n",
    "from selenium import webdriver\n",
    "from selenium.webdriver.support.ui import Select\n",
    "from selenium.webdriver.common.by import By\n",
    "from selenium.webdriver.support.ui import WebDriverWait\n",
    "from selenium.webdriver.support import expected_conditions as EC\n",
    "\n",
    "!rm log.txt\n",
    "\n",
    "def print_it(*args, **kwargs):\n",
    "    print(*args, **kwargs)\n",
    "    with open('log.txt', 'a') as f:\n",
    "        print(*args, **kwargs, file=f)\n",
    "\n",
    "global_init = time()"
   ]
  },
  {
   "cell_type": "code",
   "execution_count": 244,
   "metadata": {},
   "outputs": [],
   "source": [
    "# Set up WebDriver\n",
    "op = webdriver.ChromeOptions()\n",
    "\n",
    "driver = webdriver.Chrome(options=op)\n",
    "\n",
    "# Navigate to the website and manually solve the CAPTCHA\n",
    "driver.get(\"https://airquality.cpcb.gov.in/ccr/#/caaqm-dashboard-all/caaqm-landing\")"
   ]
  },
  {
   "cell_type": "markdown",
   "metadata": {},
   "source": [
    "> Manually solve captcha before moving on to the next cell.."
   ]
  },
  {
   "cell_type": "code",
   "execution_count": 245,
   "metadata": {},
   "outputs": [
    {
     "name": "stdout",
     "output_type": "stream",
     "text": [
      "Total stations:  540\n"
     ]
    }
   ],
   "source": [
    "# leaflet-marker-icon custom-div-icon map_markers station_status_live leaflet-zoom-animated leaflet-interactive\n",
    "all_station_markers = driver.find_elements(By.CLASS_NAME, 'leaflet-marker-icon')\n",
    "\n",
    "all_stations_len = len(all_station_markers)\n",
    "print(\"Total stations: \", all_stations_len)"
   ]
  },
  {
   "cell_type": "code",
   "execution_count": 246,
   "metadata": {},
   "outputs": [
    {
     "data": {
      "application/vnd.jupyter.widget-view+json": {
       "model_id": "1dedd3dbfb6b48d5adcc9df3b7fd9dbc",
       "version_major": 2,
       "version_minor": 0
      },
      "text/plain": [
       "Progress:   0%|          | 0/540 [00:00<?, ?it/s]"
      ]
     },
     "metadata": {},
     "output_type": "display_data"
    }
   ],
   "source": [
    "def get_after(string, phrase):\n",
    "    return string[string.index(phrase) + len(phrase):]\n",
    "\n",
    "data = {}\n",
    "all_station_markers = driver.find_elements(By.CLASS_NAME, 'leaflet-marker-icon')\n",
    "marker_id = 0\n",
    "progress_bar = tqdm(total=all_stations_len, desc=\"Progress\")\n",
    "while marker_id < all_stations_len:\n",
    "    try:\n",
    "        marker = all_station_markers[marker_id]\n",
    "        driver.execute_script(\"arguments[0].click();\", marker)\n",
    "        WebDriverWait(driver, 10).until(EC.element_to_be_clickable((By.CLASS_NAME, 'close')))\n",
    "        children = driver.find_elements(By.CLASS_NAME, \"col-md-12\")\n",
    "        assert \"Station Name\" in children[3].text\n",
    "        \n",
    "        # parse it\n",
    "    \n",
    "        station, address, location = children[3].text.split('\\n')\n",
    "        station = get_after(station, \"Station Name: \")\n",
    "        address = get_after(address, \"Address: \")\n",
    "        latitude, longitude = location.split(\",\")\n",
    "        latitude = get_after(latitude, \"Latitude: \")\n",
    "        longitude = get_after(longitude, \"Longitude: \")\n",
    "        \n",
    "        data[station] = {\"address\": address, \"latitude\": float(latitude), \"longitude\": float(longitude)}\n",
    "        close = driver.find_element(By.CLASS_NAME, \"close\")\n",
    "        close.click()\n",
    "        sleep(0.5)\n",
    "        marker_id += 1\n",
    "        progress_bar.update(1)\n",
    "    except Exception as e:\n",
    "        driver.refresh()\n",
    "        input(\"Please manually solve the Captcha\")\n",
    "        all_station_markers = driver.find_elements(By.CLASS_NAME, 'leaflet-marker-icon')"
   ]
  },
  {
   "cell_type": "code",
   "execution_count": 251,
   "metadata": {},
   "outputs": [],
   "source": [
    "pd.to_pickle(data, \"station_data.pkl\")"
   ]
  }
 ],
 "metadata": {
  "kernelspec": {
   "display_name": "torch_gpu_py311",
   "language": "python",
   "name": "python3"
  },
  "language_info": {
   "codemirror_mode": {
    "name": "ipython",
    "version": 3
   },
   "file_extension": ".py",
   "mimetype": "text/x-python",
   "name": "python",
   "nbconvert_exporter": "python",
   "pygments_lexer": "ipython3",
   "version": "3.12.2"
  }
 },
 "nbformat": 4,
 "nbformat_minor": 2
}
