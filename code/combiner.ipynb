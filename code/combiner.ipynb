{
 "cells": [
  {
   "cell_type": "code",
   "execution_count": 1,
   "metadata": {},
   "outputs": [],
   "source": [
    "import os\n",
    "from os.path import join\n",
    "import pandas as pd\n",
    "from glob import glob\n",
    "from joblib import Parallel, delayed\n",
    "import xarray as xr\n",
    "from tqdm.notebook import tqdm"
   ]
  },
  {
   "cell_type": "markdown",
   "metadata": {},
   "source": [
    "## Basic statistics"
   ]
  },
  {
   "cell_type": "code",
   "execution_count": 2,
   "metadata": {},
   "outputs": [
    {
     "name": "stdout",
     "output_type": "stream",
     "text": [
      "Total files: 3080\n"
     ]
    },
    {
     "data": {
      "text/plain": [
       "'../another_files/Punjab/Khanna/Kalal Majra, Khanna - PPCB/Raw_data_15Min_2020_site_1450_Kalal_Majra_Khanna_PPCB_15Min.csv'"
      ]
     },
     "execution_count": 2,
     "metadata": {},
     "output_type": "execute_result"
    }
   ],
   "source": [
    "files = glob(\"../another_files/*/*/*/*.csv\")\n",
    "print(\"Total files:\", len(files))\n",
    "files[0]"
   ]
  },
  {
   "cell_type": "code",
   "execution_count": 3,
   "metadata": {},
   "outputs": [
    {
     "name": "stdout",
     "output_type": "stream",
     "text": [
      "Total stations: 537\n"
     ]
    },
    {
     "data": {
      "text/plain": [
       "'Shivaji Nagar, Rishikesh - UKPCB'"
      ]
     },
     "execution_count": 3,
     "metadata": {},
     "output_type": "execute_result"
    }
   ],
   "source": [
    "stations = list(set([file.split(\"/\")[-2] for file in files]))\n",
    "print(\"Total stations:\", len(stations))\n",
    "stations[0]"
   ]
  },
  {
   "cell_type": "code",
   "execution_count": 4,
   "metadata": {},
   "outputs": [
    {
     "name": "stdout",
     "output_type": "stream",
     "text": [
      "Total cities: 279\n"
     ]
    },
    {
     "data": {
      "text/plain": [
       "'Khurja'"
      ]
     },
     "execution_count": 4,
     "metadata": {},
     "output_type": "execute_result"
    }
   ],
   "source": [
    "cities = list(set([file.split(\"/\")[-3] for file in files]))\n",
    "print(\"Total cities:\", len(cities))\n",
    "cities[0]"
   ]
  },
  {
   "cell_type": "code",
   "execution_count": 5,
   "metadata": {},
   "outputs": [
    {
     "name": "stdout",
     "output_type": "stream",
     "text": [
      "Total states: 31\n"
     ]
    },
    {
     "data": {
      "text/plain": [
       "'Uttarakhand'"
      ]
     },
     "execution_count": 5,
     "metadata": {},
     "output_type": "execute_result"
    }
   ],
   "source": [
    "states = list(set([file.split(\"/\")[-4] for file in files]))\n",
    "print(\"Total states:\", len(states))\n",
    "states[0]"
   ]
  },
  {
   "cell_type": "markdown",
   "metadata": {},
   "source": [
    "## Load location info"
   ]
  },
  {
   "cell_type": "code",
   "execution_count": 6,
   "metadata": {},
   "outputs": [],
   "source": [
    "station_data = pd.read_pickle(\"station_data.pkl\")"
   ]
  },
  {
   "cell_type": "code",
   "execution_count": 7,
   "metadata": {},
   "outputs": [
    {
     "data": {
      "text/plain": [
       "{'Charitra Van, Buxar - BSPCB (Formerly known as Central Jail)',\n",
       " 'Rajiv Nagar, Vijayawada - APPCB',\n",
       " 'Vasundhara Nagar_UIT, Bhiwadi - RSPCB'}"
      ]
     },
     "execution_count": 7,
     "metadata": {},
     "output_type": "execute_result"
    }
   ],
   "source": [
    "set(station_data.keys()) - set(stations)"
   ]
  },
  {
   "cell_type": "code",
   "execution_count": null,
   "metadata": {},
   "outputs": [],
   "source": []
  },
  {
   "cell_type": "markdown",
   "metadata": {},
   "source": [
    "These 3 stations are not available in data because data for them is not available in the CPCB portal."
   ]
  },
  {
   "cell_type": "markdown",
   "metadata": {},
   "source": [
    "## Process all files"
   ]
  },
  {
   "cell_type": "code",
   "execution_count": 8,
   "metadata": {},
   "outputs": [
    {
     "name": "stdout",
     "output_type": "stream",
     "text": [
      "/home/patel_zeel/cpcb_helper/nc_files/Punjab/Khanna/Kalal Majra, Khanna - PPCB/Raw_data_15Min_2020_site_1450_Kalal_Majra_Khanna_PPCB_15Min.nc\n"
     ]
    },
    {
     "data": {
      "text/html": [
       "<div><svg style=\"position: absolute; width: 0; height: 0; overflow: hidden\">\n",
       "<defs>\n",
       "<symbol id=\"icon-database\" viewBox=\"0 0 32 32\">\n",
       "<path d=\"M16 0c-8.837 0-16 2.239-16 5v4c0 2.761 7.163 5 16 5s16-2.239 16-5v-4c0-2.761-7.163-5-16-5z\"></path>\n",
       "<path d=\"M16 17c-8.837 0-16-2.239-16-5v6c0 2.761 7.163 5 16 5s16-2.239 16-5v-6c0 2.761-7.163 5-16 5z\"></path>\n",
       "<path d=\"M16 26c-8.837 0-16-2.239-16-5v6c0 2.761 7.163 5 16 5s16-2.239 16-5v-6c0 2.761-7.163 5-16 5z\"></path>\n",
       "</symbol>\n",
       "<symbol id=\"icon-file-text2\" viewBox=\"0 0 32 32\">\n",
       "<path d=\"M28.681 7.159c-0.694-0.947-1.662-2.053-2.724-3.116s-2.169-2.030-3.116-2.724c-1.612-1.182-2.393-1.319-2.841-1.319h-15.5c-1.378 0-2.5 1.121-2.5 2.5v27c0 1.378 1.122 2.5 2.5 2.5h23c1.378 0 2.5-1.122 2.5-2.5v-19.5c0-0.448-0.137-1.23-1.319-2.841zM24.543 5.457c0.959 0.959 1.712 1.825 2.268 2.543h-4.811v-4.811c0.718 0.556 1.584 1.309 2.543 2.268zM28 29.5c0 0.271-0.229 0.5-0.5 0.5h-23c-0.271 0-0.5-0.229-0.5-0.5v-27c0-0.271 0.229-0.5 0.5-0.5 0 0 15.499-0 15.5 0v7c0 0.552 0.448 1 1 1h7v19.5z\"></path>\n",
       "<path d=\"M23 26h-14c-0.552 0-1-0.448-1-1s0.448-1 1-1h14c0.552 0 1 0.448 1 1s-0.448 1-1 1z\"></path>\n",
       "<path d=\"M23 22h-14c-0.552 0-1-0.448-1-1s0.448-1 1-1h14c0.552 0 1 0.448 1 1s-0.448 1-1 1z\"></path>\n",
       "<path d=\"M23 18h-14c-0.552 0-1-0.448-1-1s0.448-1 1-1h14c0.552 0 1 0.448 1 1s-0.448 1-1 1z\"></path>\n",
       "</symbol>\n",
       "</defs>\n",
       "</svg>\n",
       "<style>/* CSS stylesheet for displaying xarray objects in jupyterlab.\n",
       " *\n",
       " */\n",
       "\n",
       ":root {\n",
       "  --xr-font-color0: var(--jp-content-font-color0, rgba(0, 0, 0, 1));\n",
       "  --xr-font-color2: var(--jp-content-font-color2, rgba(0, 0, 0, 0.54));\n",
       "  --xr-font-color3: var(--jp-content-font-color3, rgba(0, 0, 0, 0.38));\n",
       "  --xr-border-color: var(--jp-border-color2, #e0e0e0);\n",
       "  --xr-disabled-color: var(--jp-layout-color3, #bdbdbd);\n",
       "  --xr-background-color: var(--jp-layout-color0, white);\n",
       "  --xr-background-color-row-even: var(--jp-layout-color1, white);\n",
       "  --xr-background-color-row-odd: var(--jp-layout-color2, #eeeeee);\n",
       "}\n",
       "\n",
       "html[theme=dark],\n",
       "body[data-theme=dark],\n",
       "body.vscode-dark {\n",
       "  --xr-font-color0: rgba(255, 255, 255, 1);\n",
       "  --xr-font-color2: rgba(255, 255, 255, 0.54);\n",
       "  --xr-font-color3: rgba(255, 255, 255, 0.38);\n",
       "  --xr-border-color: #1F1F1F;\n",
       "  --xr-disabled-color: #515151;\n",
       "  --xr-background-color: #111111;\n",
       "  --xr-background-color-row-even: #111111;\n",
       "  --xr-background-color-row-odd: #313131;\n",
       "}\n",
       "\n",
       ".xr-wrap {\n",
       "  display: block !important;\n",
       "  min-width: 300px;\n",
       "  max-width: 700px;\n",
       "}\n",
       "\n",
       ".xr-text-repr-fallback {\n",
       "  /* fallback to plain text repr when CSS is not injected (untrusted notebook) */\n",
       "  display: none;\n",
       "}\n",
       "\n",
       ".xr-header {\n",
       "  padding-top: 6px;\n",
       "  padding-bottom: 6px;\n",
       "  margin-bottom: 4px;\n",
       "  border-bottom: solid 1px var(--xr-border-color);\n",
       "}\n",
       "\n",
       ".xr-header > div,\n",
       ".xr-header > ul {\n",
       "  display: inline;\n",
       "  margin-top: 0;\n",
       "  margin-bottom: 0;\n",
       "}\n",
       "\n",
       ".xr-obj-type,\n",
       ".xr-array-name {\n",
       "  margin-left: 2px;\n",
       "  margin-right: 10px;\n",
       "}\n",
       "\n",
       ".xr-obj-type {\n",
       "  color: var(--xr-font-color2);\n",
       "}\n",
       "\n",
       ".xr-sections {\n",
       "  padding-left: 0 !important;\n",
       "  display: grid;\n",
       "  grid-template-columns: 150px auto auto 1fr 20px 20px;\n",
       "}\n",
       "\n",
       ".xr-section-item {\n",
       "  display: contents;\n",
       "}\n",
       "\n",
       ".xr-section-item input {\n",
       "  display: none;\n",
       "}\n",
       "\n",
       ".xr-section-item input + label {\n",
       "  color: var(--xr-disabled-color);\n",
       "}\n",
       "\n",
       ".xr-section-item input:enabled + label {\n",
       "  cursor: pointer;\n",
       "  color: var(--xr-font-color2);\n",
       "}\n",
       "\n",
       ".xr-section-item input:enabled + label:hover {\n",
       "  color: var(--xr-font-color0);\n",
       "}\n",
       "\n",
       ".xr-section-summary {\n",
       "  grid-column: 1;\n",
       "  color: var(--xr-font-color2);\n",
       "  font-weight: 500;\n",
       "}\n",
       "\n",
       ".xr-section-summary > span {\n",
       "  display: inline-block;\n",
       "  padding-left: 0.5em;\n",
       "}\n",
       "\n",
       ".xr-section-summary-in:disabled + label {\n",
       "  color: var(--xr-font-color2);\n",
       "}\n",
       "\n",
       ".xr-section-summary-in + label:before {\n",
       "  display: inline-block;\n",
       "  content: '►';\n",
       "  font-size: 11px;\n",
       "  width: 15px;\n",
       "  text-align: center;\n",
       "}\n",
       "\n",
       ".xr-section-summary-in:disabled + label:before {\n",
       "  color: var(--xr-disabled-color);\n",
       "}\n",
       "\n",
       ".xr-section-summary-in:checked + label:before {\n",
       "  content: '▼';\n",
       "}\n",
       "\n",
       ".xr-section-summary-in:checked + label > span {\n",
       "  display: none;\n",
       "}\n",
       "\n",
       ".xr-section-summary,\n",
       ".xr-section-inline-details {\n",
       "  padding-top: 4px;\n",
       "  padding-bottom: 4px;\n",
       "}\n",
       "\n",
       ".xr-section-inline-details {\n",
       "  grid-column: 2 / -1;\n",
       "}\n",
       "\n",
       ".xr-section-details {\n",
       "  display: none;\n",
       "  grid-column: 1 / -1;\n",
       "  margin-bottom: 5px;\n",
       "}\n",
       "\n",
       ".xr-section-summary-in:checked ~ .xr-section-details {\n",
       "  display: contents;\n",
       "}\n",
       "\n",
       ".xr-array-wrap {\n",
       "  grid-column: 1 / -1;\n",
       "  display: grid;\n",
       "  grid-template-columns: 20px auto;\n",
       "}\n",
       "\n",
       ".xr-array-wrap > label {\n",
       "  grid-column: 1;\n",
       "  vertical-align: top;\n",
       "}\n",
       "\n",
       ".xr-preview {\n",
       "  color: var(--xr-font-color3);\n",
       "}\n",
       "\n",
       ".xr-array-preview,\n",
       ".xr-array-data {\n",
       "  padding: 0 5px !important;\n",
       "  grid-column: 2;\n",
       "}\n",
       "\n",
       ".xr-array-data,\n",
       ".xr-array-in:checked ~ .xr-array-preview {\n",
       "  display: none;\n",
       "}\n",
       "\n",
       ".xr-array-in:checked ~ .xr-array-data,\n",
       ".xr-array-preview {\n",
       "  display: inline-block;\n",
       "}\n",
       "\n",
       ".xr-dim-list {\n",
       "  display: inline-block !important;\n",
       "  list-style: none;\n",
       "  padding: 0 !important;\n",
       "  margin: 0;\n",
       "}\n",
       "\n",
       ".xr-dim-list li {\n",
       "  display: inline-block;\n",
       "  padding: 0;\n",
       "  margin: 0;\n",
       "}\n",
       "\n",
       ".xr-dim-list:before {\n",
       "  content: '(';\n",
       "}\n",
       "\n",
       ".xr-dim-list:after {\n",
       "  content: ')';\n",
       "}\n",
       "\n",
       ".xr-dim-list li:not(:last-child):after {\n",
       "  content: ',';\n",
       "  padding-right: 5px;\n",
       "}\n",
       "\n",
       ".xr-has-index {\n",
       "  font-weight: bold;\n",
       "}\n",
       "\n",
       ".xr-var-list,\n",
       ".xr-var-item {\n",
       "  display: contents;\n",
       "}\n",
       "\n",
       ".xr-var-item > div,\n",
       ".xr-var-item label,\n",
       ".xr-var-item > .xr-var-name span {\n",
       "  background-color: var(--xr-background-color-row-even);\n",
       "  margin-bottom: 0;\n",
       "}\n",
       "\n",
       ".xr-var-item > .xr-var-name:hover span {\n",
       "  padding-right: 5px;\n",
       "}\n",
       "\n",
       ".xr-var-list > li:nth-child(odd) > div,\n",
       ".xr-var-list > li:nth-child(odd) > label,\n",
       ".xr-var-list > li:nth-child(odd) > .xr-var-name span {\n",
       "  background-color: var(--xr-background-color-row-odd);\n",
       "}\n",
       "\n",
       ".xr-var-name {\n",
       "  grid-column: 1;\n",
       "}\n",
       "\n",
       ".xr-var-dims {\n",
       "  grid-column: 2;\n",
       "}\n",
       "\n",
       ".xr-var-dtype {\n",
       "  grid-column: 3;\n",
       "  text-align: right;\n",
       "  color: var(--xr-font-color2);\n",
       "}\n",
       "\n",
       ".xr-var-preview {\n",
       "  grid-column: 4;\n",
       "}\n",
       "\n",
       ".xr-index-preview {\n",
       "  grid-column: 2 / 5;\n",
       "  color: var(--xr-font-color2);\n",
       "}\n",
       "\n",
       ".xr-var-name,\n",
       ".xr-var-dims,\n",
       ".xr-var-dtype,\n",
       ".xr-preview,\n",
       ".xr-attrs dt {\n",
       "  white-space: nowrap;\n",
       "  overflow: hidden;\n",
       "  text-overflow: ellipsis;\n",
       "  padding-right: 10px;\n",
       "}\n",
       "\n",
       ".xr-var-name:hover,\n",
       ".xr-var-dims:hover,\n",
       ".xr-var-dtype:hover,\n",
       ".xr-attrs dt:hover {\n",
       "  overflow: visible;\n",
       "  width: auto;\n",
       "  z-index: 1;\n",
       "}\n",
       "\n",
       ".xr-var-attrs,\n",
       ".xr-var-data,\n",
       ".xr-index-data {\n",
       "  display: none;\n",
       "  background-color: var(--xr-background-color) !important;\n",
       "  padding-bottom: 5px !important;\n",
       "}\n",
       "\n",
       ".xr-var-attrs-in:checked ~ .xr-var-attrs,\n",
       ".xr-var-data-in:checked ~ .xr-var-data,\n",
       ".xr-index-data-in:checked ~ .xr-index-data {\n",
       "  display: block;\n",
       "}\n",
       "\n",
       ".xr-var-data > table {\n",
       "  float: right;\n",
       "}\n",
       "\n",
       ".xr-var-name span,\n",
       ".xr-var-data,\n",
       ".xr-index-name div,\n",
       ".xr-index-data,\n",
       ".xr-attrs {\n",
       "  padding-left: 25px !important;\n",
       "}\n",
       "\n",
       ".xr-attrs,\n",
       ".xr-var-attrs,\n",
       ".xr-var-data,\n",
       ".xr-index-data {\n",
       "  grid-column: 1 / -1;\n",
       "}\n",
       "\n",
       "dl.xr-attrs {\n",
       "  padding: 0;\n",
       "  margin: 0;\n",
       "  display: grid;\n",
       "  grid-template-columns: 125px auto;\n",
       "}\n",
       "\n",
       ".xr-attrs dt,\n",
       ".xr-attrs dd {\n",
       "  padding: 0;\n",
       "  margin: 0;\n",
       "  float: left;\n",
       "  padding-right: 10px;\n",
       "  width: auto;\n",
       "}\n",
       "\n",
       ".xr-attrs dt {\n",
       "  font-weight: normal;\n",
       "  grid-column: 1;\n",
       "}\n",
       "\n",
       ".xr-attrs dt:hover span {\n",
       "  display: inline-block;\n",
       "  background: var(--xr-background-color);\n",
       "  padding-right: 10px;\n",
       "}\n",
       "\n",
       ".xr-attrs dd {\n",
       "  grid-column: 2;\n",
       "  white-space: pre-wrap;\n",
       "  word-break: break-all;\n",
       "}\n",
       "\n",
       ".xr-icon-database,\n",
       ".xr-icon-file-text2,\n",
       ".xr-no-icon {\n",
       "  display: inline-block;\n",
       "  vertical-align: middle;\n",
       "  width: 1em;\n",
       "  height: 1.5em !important;\n",
       "  stroke-width: 0;\n",
       "  stroke: currentColor;\n",
       "  fill: currentColor;\n",
       "}\n",
       "</style><pre class='xr-text-repr-fallback'>&lt;xarray.Dataset&gt;\n",
       "Dimensions:      (Timestamp: 35136, station: 1)\n",
       "Coordinates:\n",
       "  * Timestamp    (Timestamp) datetime64[ns] 2020-01-01 ... 2020-12-31T23:45:00\n",
       "  * station      (station) object &#x27;Kalal Majra, Khanna - PPCB&#x27;\n",
       "    longitude    (station) float64 ...\n",
       "    latitude     (station) float64 ...\n",
       "Data variables: (12/24)\n",
       "    PM2.5        (Timestamp, station) float64 ...\n",
       "    PM10         (Timestamp, station) float64 ...\n",
       "    NO           (Timestamp, station) float64 ...\n",
       "    NO2          (Timestamp, station) float64 ...\n",
       "    NOx          (Timestamp, station) float64 ...\n",
       "    NH3          (Timestamp, station) float64 ...\n",
       "    ...           ...\n",
       "    WD           (Timestamp, station) float64 ...\n",
       "    RF           (Timestamp, station) float64 ...\n",
       "    TOT-RF       (Timestamp, station) float64 ...\n",
       "    SR           (Timestamp, station) float64 ...\n",
       "    BP           (Timestamp, station) float64 ...\n",
       "    VWS          (Timestamp, station) float64 ...</pre><div class='xr-wrap' style='display:none'><div class='xr-header'><div class='xr-obj-type'>xarray.Dataset</div></div><ul class='xr-sections'><li class='xr-section-item'><input id='section-2a181927-a7fa-4f61-aa4e-f406c561d9d2' class='xr-section-summary-in' type='checkbox' disabled ><label for='section-2a181927-a7fa-4f61-aa4e-f406c561d9d2' class='xr-section-summary'  title='Expand/collapse section'>Dimensions:</label><div class='xr-section-inline-details'><ul class='xr-dim-list'><li><span class='xr-has-index'>Timestamp</span>: 35136</li><li><span class='xr-has-index'>station</span>: 1</li></ul></div><div class='xr-section-details'></div></li><li class='xr-section-item'><input id='section-02732c3f-05d3-4251-a194-b92f6c43117e' class='xr-section-summary-in' type='checkbox'  checked><label for='section-02732c3f-05d3-4251-a194-b92f6c43117e' class='xr-section-summary' >Coordinates: <span>(4)</span></label><div class='xr-section-inline-details'></div><div class='xr-section-details'><ul class='xr-var-list'><li class='xr-var-item'><div class='xr-var-name'><span class='xr-has-index'>Timestamp</span></div><div class='xr-var-dims'>(Timestamp)</div><div class='xr-var-dtype'>datetime64[ns]</div><div class='xr-var-preview xr-preview'>2020-01-01 ... 2020-12-31T23:45:00</div><input id='attrs-9aeedb72-53fd-4b03-b38c-1d231d3cf081' class='xr-var-attrs-in' type='checkbox' disabled><label for='attrs-9aeedb72-53fd-4b03-b38c-1d231d3cf081' title='Show/Hide attributes'><svg class='icon xr-icon-file-text2'><use xlink:href='#icon-file-text2'></use></svg></label><input id='data-53c679e5-73e6-40f9-8520-78a80b6b1b3c' class='xr-var-data-in' type='checkbox'><label for='data-53c679e5-73e6-40f9-8520-78a80b6b1b3c' title='Show/Hide data repr'><svg class='icon xr-icon-database'><use xlink:href='#icon-database'></use></svg></label><div class='xr-var-attrs'><dl class='xr-attrs'></dl></div><div class='xr-var-data'><pre>array([&#x27;2020-01-01T00:00:00.000000000&#x27;, &#x27;2020-01-01T00:15:00.000000000&#x27;,\n",
       "       &#x27;2020-01-01T00:30:00.000000000&#x27;, ..., &#x27;2020-12-31T23:15:00.000000000&#x27;,\n",
       "       &#x27;2020-12-31T23:30:00.000000000&#x27;, &#x27;2020-12-31T23:45:00.000000000&#x27;],\n",
       "      dtype=&#x27;datetime64[ns]&#x27;)</pre></div></li><li class='xr-var-item'><div class='xr-var-name'><span class='xr-has-index'>station</span></div><div class='xr-var-dims'>(station)</div><div class='xr-var-dtype'>object</div><div class='xr-var-preview xr-preview'>&#x27;Kalal Majra, Khanna - PPCB&#x27;</div><input id='attrs-f7ac708a-ddc1-462e-93be-bd5fc95353bb' class='xr-var-attrs-in' type='checkbox' disabled><label for='attrs-f7ac708a-ddc1-462e-93be-bd5fc95353bb' title='Show/Hide attributes'><svg class='icon xr-icon-file-text2'><use xlink:href='#icon-file-text2'></use></svg></label><input id='data-7e477cf1-0241-425f-9561-5e8556810106' class='xr-var-data-in' type='checkbox'><label for='data-7e477cf1-0241-425f-9561-5e8556810106' title='Show/Hide data repr'><svg class='icon xr-icon-database'><use xlink:href='#icon-database'></use></svg></label><div class='xr-var-attrs'><dl class='xr-attrs'></dl></div><div class='xr-var-data'><pre>array([&#x27;Kalal Majra, Khanna - PPCB&#x27;], dtype=object)</pre></div></li><li class='xr-var-item'><div class='xr-var-name'><span>longitude</span></div><div class='xr-var-dims'>(station)</div><div class='xr-var-dtype'>float64</div><div class='xr-var-preview xr-preview'>...</div><input id='attrs-ae53da02-2fed-4738-86be-0a4085a5c68e' class='xr-var-attrs-in' type='checkbox' disabled><label for='attrs-ae53da02-2fed-4738-86be-0a4085a5c68e' title='Show/Hide attributes'><svg class='icon xr-icon-file-text2'><use xlink:href='#icon-file-text2'></use></svg></label><input id='data-e0b82149-c4c8-4bff-8eff-da5b8ed3f6e1' class='xr-var-data-in' type='checkbox'><label for='data-e0b82149-c4c8-4bff-8eff-da5b8ed3f6e1' title='Show/Hide data repr'><svg class='icon xr-icon-database'><use xlink:href='#icon-database'></use></svg></label><div class='xr-var-attrs'><dl class='xr-attrs'></dl></div><div class='xr-var-data'><pre>[1 values with dtype=float64]</pre></div></li><li class='xr-var-item'><div class='xr-var-name'><span>latitude</span></div><div class='xr-var-dims'>(station)</div><div class='xr-var-dtype'>float64</div><div class='xr-var-preview xr-preview'>...</div><input id='attrs-df7e9bc6-18e6-4712-bbcd-c15b9d5e6ab5' class='xr-var-attrs-in' type='checkbox' disabled><label for='attrs-df7e9bc6-18e6-4712-bbcd-c15b9d5e6ab5' title='Show/Hide attributes'><svg class='icon xr-icon-file-text2'><use xlink:href='#icon-file-text2'></use></svg></label><input id='data-e60f8cfa-3601-4b34-abd7-77bc16e70f07' class='xr-var-data-in' type='checkbox'><label for='data-e60f8cfa-3601-4b34-abd7-77bc16e70f07' title='Show/Hide data repr'><svg class='icon xr-icon-database'><use xlink:href='#icon-database'></use></svg></label><div class='xr-var-attrs'><dl class='xr-attrs'></dl></div><div class='xr-var-data'><pre>[1 values with dtype=float64]</pre></div></li></ul></div></li><li class='xr-section-item'><input id='section-6019d2a5-b3f0-499d-9630-6f671b1dbfc4' class='xr-section-summary-in' type='checkbox'  ><label for='section-6019d2a5-b3f0-499d-9630-6f671b1dbfc4' class='xr-section-summary' >Data variables: <span>(24)</span></label><div class='xr-section-inline-details'></div><div class='xr-section-details'><ul class='xr-var-list'><li class='xr-var-item'><div class='xr-var-name'><span>PM2.5</span></div><div class='xr-var-dims'>(Timestamp, station)</div><div class='xr-var-dtype'>float64</div><div class='xr-var-preview xr-preview'>...</div><input id='attrs-7dc5cbc2-d4f5-4619-95a9-748dc2b957be' class='xr-var-attrs-in' type='checkbox' ><label for='attrs-7dc5cbc2-d4f5-4619-95a9-748dc2b957be' title='Show/Hide attributes'><svg class='icon xr-icon-file-text2'><use xlink:href='#icon-file-text2'></use></svg></label><input id='data-83bd9311-8fed-4057-bf1e-29bb8dbf1c5c' class='xr-var-data-in' type='checkbox'><label for='data-83bd9311-8fed-4057-bf1e-29bb8dbf1c5c' title='Show/Hide data repr'><svg class='icon xr-icon-database'><use xlink:href='#icon-database'></use></svg></label><div class='xr-var-attrs'><dl class='xr-attrs'><dt><span>unit :</span></dt><dd>µg/m³</dd></dl></div><div class='xr-var-data'><pre>[35136 values with dtype=float64]</pre></div></li><li class='xr-var-item'><div class='xr-var-name'><span>PM10</span></div><div class='xr-var-dims'>(Timestamp, station)</div><div class='xr-var-dtype'>float64</div><div class='xr-var-preview xr-preview'>...</div><input id='attrs-c3fc798d-9586-44d7-aabe-b1189926001d' class='xr-var-attrs-in' type='checkbox' ><label for='attrs-c3fc798d-9586-44d7-aabe-b1189926001d' title='Show/Hide attributes'><svg class='icon xr-icon-file-text2'><use xlink:href='#icon-file-text2'></use></svg></label><input id='data-2f33a80b-03bd-4602-b0ff-c71fae46e11b' class='xr-var-data-in' type='checkbox'><label for='data-2f33a80b-03bd-4602-b0ff-c71fae46e11b' title='Show/Hide data repr'><svg class='icon xr-icon-database'><use xlink:href='#icon-database'></use></svg></label><div class='xr-var-attrs'><dl class='xr-attrs'><dt><span>unit :</span></dt><dd>µg/m³</dd></dl></div><div class='xr-var-data'><pre>[35136 values with dtype=float64]</pre></div></li><li class='xr-var-item'><div class='xr-var-name'><span>NO</span></div><div class='xr-var-dims'>(Timestamp, station)</div><div class='xr-var-dtype'>float64</div><div class='xr-var-preview xr-preview'>...</div><input id='attrs-d97f8112-69fd-4f3c-8d4f-de22baa1d14f' class='xr-var-attrs-in' type='checkbox' ><label for='attrs-d97f8112-69fd-4f3c-8d4f-de22baa1d14f' title='Show/Hide attributes'><svg class='icon xr-icon-file-text2'><use xlink:href='#icon-file-text2'></use></svg></label><input id='data-ad90f389-d248-46fd-ac29-8345f32c87d9' class='xr-var-data-in' type='checkbox'><label for='data-ad90f389-d248-46fd-ac29-8345f32c87d9' title='Show/Hide data repr'><svg class='icon xr-icon-database'><use xlink:href='#icon-database'></use></svg></label><div class='xr-var-attrs'><dl class='xr-attrs'><dt><span>unit :</span></dt><dd>µg/m³</dd></dl></div><div class='xr-var-data'><pre>[35136 values with dtype=float64]</pre></div></li><li class='xr-var-item'><div class='xr-var-name'><span>NO2</span></div><div class='xr-var-dims'>(Timestamp, station)</div><div class='xr-var-dtype'>float64</div><div class='xr-var-preview xr-preview'>...</div><input id='attrs-42732adc-57e9-48f9-a30e-79a18733f7c5' class='xr-var-attrs-in' type='checkbox' ><label for='attrs-42732adc-57e9-48f9-a30e-79a18733f7c5' title='Show/Hide attributes'><svg class='icon xr-icon-file-text2'><use xlink:href='#icon-file-text2'></use></svg></label><input id='data-0a8a50fb-f441-4074-9aa5-7285717fe387' class='xr-var-data-in' type='checkbox'><label for='data-0a8a50fb-f441-4074-9aa5-7285717fe387' title='Show/Hide data repr'><svg class='icon xr-icon-database'><use xlink:href='#icon-database'></use></svg></label><div class='xr-var-attrs'><dl class='xr-attrs'><dt><span>unit :</span></dt><dd>µg/m³</dd></dl></div><div class='xr-var-data'><pre>[35136 values with dtype=float64]</pre></div></li><li class='xr-var-item'><div class='xr-var-name'><span>NOx</span></div><div class='xr-var-dims'>(Timestamp, station)</div><div class='xr-var-dtype'>float64</div><div class='xr-var-preview xr-preview'>...</div><input id='attrs-072eb324-024a-416e-a044-bd57a078bc81' class='xr-var-attrs-in' type='checkbox' ><label for='attrs-072eb324-024a-416e-a044-bd57a078bc81' title='Show/Hide attributes'><svg class='icon xr-icon-file-text2'><use xlink:href='#icon-file-text2'></use></svg></label><input id='data-a437fff9-88f7-4fd8-8584-bcf68f777da1' class='xr-var-data-in' type='checkbox'><label for='data-a437fff9-88f7-4fd8-8584-bcf68f777da1' title='Show/Hide data repr'><svg class='icon xr-icon-database'><use xlink:href='#icon-database'></use></svg></label><div class='xr-var-attrs'><dl class='xr-attrs'><dt><span>unit :</span></dt><dd>ppb</dd></dl></div><div class='xr-var-data'><pre>[35136 values with dtype=float64]</pre></div></li><li class='xr-var-item'><div class='xr-var-name'><span>NH3</span></div><div class='xr-var-dims'>(Timestamp, station)</div><div class='xr-var-dtype'>float64</div><div class='xr-var-preview xr-preview'>...</div><input id='attrs-ecd5d6d5-0e15-4ba0-bd36-f5107a28b746' class='xr-var-attrs-in' type='checkbox' ><label for='attrs-ecd5d6d5-0e15-4ba0-bd36-f5107a28b746' title='Show/Hide attributes'><svg class='icon xr-icon-file-text2'><use xlink:href='#icon-file-text2'></use></svg></label><input id='data-5b6af927-d0b5-4538-940f-73ce63532bc3' class='xr-var-data-in' type='checkbox'><label for='data-5b6af927-d0b5-4538-940f-73ce63532bc3' title='Show/Hide data repr'><svg class='icon xr-icon-database'><use xlink:href='#icon-database'></use></svg></label><div class='xr-var-attrs'><dl class='xr-attrs'><dt><span>unit :</span></dt><dd>µg/m³</dd></dl></div><div class='xr-var-data'><pre>[35136 values with dtype=float64]</pre></div></li><li class='xr-var-item'><div class='xr-var-name'><span>SO2</span></div><div class='xr-var-dims'>(Timestamp, station)</div><div class='xr-var-dtype'>float64</div><div class='xr-var-preview xr-preview'>...</div><input id='attrs-87fe797a-84ba-4d5e-93db-d0a7cd5fe8ca' class='xr-var-attrs-in' type='checkbox' ><label for='attrs-87fe797a-84ba-4d5e-93db-d0a7cd5fe8ca' title='Show/Hide attributes'><svg class='icon xr-icon-file-text2'><use xlink:href='#icon-file-text2'></use></svg></label><input id='data-89ec3441-f62c-44a3-b80c-e3250a33656b' class='xr-var-data-in' type='checkbox'><label for='data-89ec3441-f62c-44a3-b80c-e3250a33656b' title='Show/Hide data repr'><svg class='icon xr-icon-database'><use xlink:href='#icon-database'></use></svg></label><div class='xr-var-attrs'><dl class='xr-attrs'><dt><span>unit :</span></dt><dd>µg/m³</dd></dl></div><div class='xr-var-data'><pre>[35136 values with dtype=float64]</pre></div></li><li class='xr-var-item'><div class='xr-var-name'><span>CO</span></div><div class='xr-var-dims'>(Timestamp, station)</div><div class='xr-var-dtype'>float64</div><div class='xr-var-preview xr-preview'>...</div><input id='attrs-24b4f786-c0d7-4c3a-9342-04560abc9d26' class='xr-var-attrs-in' type='checkbox' ><label for='attrs-24b4f786-c0d7-4c3a-9342-04560abc9d26' title='Show/Hide attributes'><svg class='icon xr-icon-file-text2'><use xlink:href='#icon-file-text2'></use></svg></label><input id='data-116e9706-b203-4a4b-a4d9-8b36dbd7f97b' class='xr-var-data-in' type='checkbox'><label for='data-116e9706-b203-4a4b-a4d9-8b36dbd7f97b' title='Show/Hide data repr'><svg class='icon xr-icon-database'><use xlink:href='#icon-database'></use></svg></label><div class='xr-var-attrs'><dl class='xr-attrs'><dt><span>unit :</span></dt><dd>mg/m³</dd></dl></div><div class='xr-var-data'><pre>[35136 values with dtype=float64]</pre></div></li><li class='xr-var-item'><div class='xr-var-name'><span>Ozone</span></div><div class='xr-var-dims'>(Timestamp, station)</div><div class='xr-var-dtype'>float64</div><div class='xr-var-preview xr-preview'>...</div><input id='attrs-d641a45b-350e-4df1-a7c0-6d1fc303adbf' class='xr-var-attrs-in' type='checkbox' ><label for='attrs-d641a45b-350e-4df1-a7c0-6d1fc303adbf' title='Show/Hide attributes'><svg class='icon xr-icon-file-text2'><use xlink:href='#icon-file-text2'></use></svg></label><input id='data-817e5691-8558-4860-b7c0-8cf1c576d88e' class='xr-var-data-in' type='checkbox'><label for='data-817e5691-8558-4860-b7c0-8cf1c576d88e' title='Show/Hide data repr'><svg class='icon xr-icon-database'><use xlink:href='#icon-database'></use></svg></label><div class='xr-var-attrs'><dl class='xr-attrs'><dt><span>unit :</span></dt><dd>µg/m³</dd></dl></div><div class='xr-var-data'><pre>[35136 values with dtype=float64]</pre></div></li><li class='xr-var-item'><div class='xr-var-name'><span>Benzene</span></div><div class='xr-var-dims'>(Timestamp, station)</div><div class='xr-var-dtype'>float64</div><div class='xr-var-preview xr-preview'>...</div><input id='attrs-a6bec72d-3e01-48c2-9192-3096bcf552db' class='xr-var-attrs-in' type='checkbox' ><label for='attrs-a6bec72d-3e01-48c2-9192-3096bcf552db' title='Show/Hide attributes'><svg class='icon xr-icon-file-text2'><use xlink:href='#icon-file-text2'></use></svg></label><input id='data-543c32c9-4d99-4cc8-8f60-43c26a7d70a2' class='xr-var-data-in' type='checkbox'><label for='data-543c32c9-4d99-4cc8-8f60-43c26a7d70a2' title='Show/Hide data repr'><svg class='icon xr-icon-database'><use xlink:href='#icon-database'></use></svg></label><div class='xr-var-attrs'><dl class='xr-attrs'><dt><span>unit :</span></dt><dd>µg/m³</dd></dl></div><div class='xr-var-data'><pre>[35136 values with dtype=float64]</pre></div></li><li class='xr-var-item'><div class='xr-var-name'><span>Toluene</span></div><div class='xr-var-dims'>(Timestamp, station)</div><div class='xr-var-dtype'>float64</div><div class='xr-var-preview xr-preview'>...</div><input id='attrs-81fa594b-01d7-4ab8-8329-1634547efd5b' class='xr-var-attrs-in' type='checkbox' ><label for='attrs-81fa594b-01d7-4ab8-8329-1634547efd5b' title='Show/Hide attributes'><svg class='icon xr-icon-file-text2'><use xlink:href='#icon-file-text2'></use></svg></label><input id='data-d9d1c9b0-b526-452c-b80e-a517c981fcb3' class='xr-var-data-in' type='checkbox'><label for='data-d9d1c9b0-b526-452c-b80e-a517c981fcb3' title='Show/Hide data repr'><svg class='icon xr-icon-database'><use xlink:href='#icon-database'></use></svg></label><div class='xr-var-attrs'><dl class='xr-attrs'><dt><span>unit :</span></dt><dd>µg/m³</dd></dl></div><div class='xr-var-data'><pre>[35136 values with dtype=float64]</pre></div></li><li class='xr-var-item'><div class='xr-var-name'><span>Xylene</span></div><div class='xr-var-dims'>(Timestamp, station)</div><div class='xr-var-dtype'>float64</div><div class='xr-var-preview xr-preview'>...</div><input id='attrs-d81c547f-86aa-401b-ba7a-7f38cee52fa9' class='xr-var-attrs-in' type='checkbox' ><label for='attrs-d81c547f-86aa-401b-ba7a-7f38cee52fa9' title='Show/Hide attributes'><svg class='icon xr-icon-file-text2'><use xlink:href='#icon-file-text2'></use></svg></label><input id='data-c8371810-178a-4cbc-9e15-f48821466420' class='xr-var-data-in' type='checkbox'><label for='data-c8371810-178a-4cbc-9e15-f48821466420' title='Show/Hide data repr'><svg class='icon xr-icon-database'><use xlink:href='#icon-database'></use></svg></label><div class='xr-var-attrs'><dl class='xr-attrs'><dt><span>unit :</span></dt><dd>µg/m³</dd></dl></div><div class='xr-var-data'><pre>[35136 values with dtype=float64]</pre></div></li><li class='xr-var-item'><div class='xr-var-name'><span>O Xylene</span></div><div class='xr-var-dims'>(Timestamp, station)</div><div class='xr-var-dtype'>float64</div><div class='xr-var-preview xr-preview'>...</div><input id='attrs-dfd5b744-678a-4e00-8258-5931de74c138' class='xr-var-attrs-in' type='checkbox' ><label for='attrs-dfd5b744-678a-4e00-8258-5931de74c138' title='Show/Hide attributes'><svg class='icon xr-icon-file-text2'><use xlink:href='#icon-file-text2'></use></svg></label><input id='data-4e219d38-97bf-4baf-accc-9e2706cda4b8' class='xr-var-data-in' type='checkbox'><label for='data-4e219d38-97bf-4baf-accc-9e2706cda4b8' title='Show/Hide data repr'><svg class='icon xr-icon-database'><use xlink:href='#icon-database'></use></svg></label><div class='xr-var-attrs'><dl class='xr-attrs'><dt><span>unit :</span></dt><dd>µg/m³</dd></dl></div><div class='xr-var-data'><pre>[35136 values with dtype=float64]</pre></div></li><li class='xr-var-item'><div class='xr-var-name'><span>Eth-Benzene</span></div><div class='xr-var-dims'>(Timestamp, station)</div><div class='xr-var-dtype'>float64</div><div class='xr-var-preview xr-preview'>...</div><input id='attrs-9fb3c530-66f6-4503-9f3c-aa769e1b8507' class='xr-var-attrs-in' type='checkbox' ><label for='attrs-9fb3c530-66f6-4503-9f3c-aa769e1b8507' title='Show/Hide attributes'><svg class='icon xr-icon-file-text2'><use xlink:href='#icon-file-text2'></use></svg></label><input id='data-ecb877e0-e009-4c62-8d8a-ca6b355bbad5' class='xr-var-data-in' type='checkbox'><label for='data-ecb877e0-e009-4c62-8d8a-ca6b355bbad5' title='Show/Hide data repr'><svg class='icon xr-icon-database'><use xlink:href='#icon-database'></use></svg></label><div class='xr-var-attrs'><dl class='xr-attrs'><dt><span>unit :</span></dt><dd>µg/m³</dd></dl></div><div class='xr-var-data'><pre>[35136 values with dtype=float64]</pre></div></li><li class='xr-var-item'><div class='xr-var-name'><span>MP-Xylene</span></div><div class='xr-var-dims'>(Timestamp, station)</div><div class='xr-var-dtype'>float64</div><div class='xr-var-preview xr-preview'>...</div><input id='attrs-8f1484ff-494e-48d7-ac43-154c9dd1e76d' class='xr-var-attrs-in' type='checkbox' ><label for='attrs-8f1484ff-494e-48d7-ac43-154c9dd1e76d' title='Show/Hide attributes'><svg class='icon xr-icon-file-text2'><use xlink:href='#icon-file-text2'></use></svg></label><input id='data-962bff48-99d5-4bef-8e4a-5cb2635b4fea' class='xr-var-data-in' type='checkbox'><label for='data-962bff48-99d5-4bef-8e4a-5cb2635b4fea' title='Show/Hide data repr'><svg class='icon xr-icon-database'><use xlink:href='#icon-database'></use></svg></label><div class='xr-var-attrs'><dl class='xr-attrs'><dt><span>unit :</span></dt><dd>µg/m³</dd></dl></div><div class='xr-var-data'><pre>[35136 values with dtype=float64]</pre></div></li><li class='xr-var-item'><div class='xr-var-name'><span>AT</span></div><div class='xr-var-dims'>(Timestamp, station)</div><div class='xr-var-dtype'>float64</div><div class='xr-var-preview xr-preview'>...</div><input id='attrs-dc5d2136-1cf6-4b8b-8f04-3dc69e5e700b' class='xr-var-attrs-in' type='checkbox' ><label for='attrs-dc5d2136-1cf6-4b8b-8f04-3dc69e5e700b' title='Show/Hide attributes'><svg class='icon xr-icon-file-text2'><use xlink:href='#icon-file-text2'></use></svg></label><input id='data-da7cefb6-a9bd-4027-9df3-647f535e62ae' class='xr-var-data-in' type='checkbox'><label for='data-da7cefb6-a9bd-4027-9df3-647f535e62ae' title='Show/Hide data repr'><svg class='icon xr-icon-database'><use xlink:href='#icon-database'></use></svg></label><div class='xr-var-attrs'><dl class='xr-attrs'><dt><span>unit :</span></dt><dd>°C</dd></dl></div><div class='xr-var-data'><pre>[35136 values with dtype=float64]</pre></div></li><li class='xr-var-item'><div class='xr-var-name'><span>RH</span></div><div class='xr-var-dims'>(Timestamp, station)</div><div class='xr-var-dtype'>float64</div><div class='xr-var-preview xr-preview'>...</div><input id='attrs-96d9669a-6f70-4001-9bc6-cec0f41b5e89' class='xr-var-attrs-in' type='checkbox' ><label for='attrs-96d9669a-6f70-4001-9bc6-cec0f41b5e89' title='Show/Hide attributes'><svg class='icon xr-icon-file-text2'><use xlink:href='#icon-file-text2'></use></svg></label><input id='data-0713c8e1-52c7-4bbe-b73e-e25d73bb9932' class='xr-var-data-in' type='checkbox'><label for='data-0713c8e1-52c7-4bbe-b73e-e25d73bb9932' title='Show/Hide data repr'><svg class='icon xr-icon-database'><use xlink:href='#icon-database'></use></svg></label><div class='xr-var-attrs'><dl class='xr-attrs'><dt><span>unit :</span></dt><dd>%</dd></dl></div><div class='xr-var-data'><pre>[35136 values with dtype=float64]</pre></div></li><li class='xr-var-item'><div class='xr-var-name'><span>WS</span></div><div class='xr-var-dims'>(Timestamp, station)</div><div class='xr-var-dtype'>float64</div><div class='xr-var-preview xr-preview'>...</div><input id='attrs-df85a6c3-7f5e-40af-85ff-1e7f3081adf6' class='xr-var-attrs-in' type='checkbox' ><label for='attrs-df85a6c3-7f5e-40af-85ff-1e7f3081adf6' title='Show/Hide attributes'><svg class='icon xr-icon-file-text2'><use xlink:href='#icon-file-text2'></use></svg></label><input id='data-49d15116-2acf-4cc7-8fa4-abcb9d8d1b24' class='xr-var-data-in' type='checkbox'><label for='data-49d15116-2acf-4cc7-8fa4-abcb9d8d1b24' title='Show/Hide data repr'><svg class='icon xr-icon-database'><use xlink:href='#icon-database'></use></svg></label><div class='xr-var-attrs'><dl class='xr-attrs'><dt><span>unit :</span></dt><dd>m/s</dd></dl></div><div class='xr-var-data'><pre>[35136 values with dtype=float64]</pre></div></li><li class='xr-var-item'><div class='xr-var-name'><span>WD</span></div><div class='xr-var-dims'>(Timestamp, station)</div><div class='xr-var-dtype'>float64</div><div class='xr-var-preview xr-preview'>...</div><input id='attrs-a22c7efa-8a81-48b9-8362-2ca17ed3c34b' class='xr-var-attrs-in' type='checkbox' ><label for='attrs-a22c7efa-8a81-48b9-8362-2ca17ed3c34b' title='Show/Hide attributes'><svg class='icon xr-icon-file-text2'><use xlink:href='#icon-file-text2'></use></svg></label><input id='data-1cfbc69a-8d50-4cc5-a1b3-2f2a85b49b90' class='xr-var-data-in' type='checkbox'><label for='data-1cfbc69a-8d50-4cc5-a1b3-2f2a85b49b90' title='Show/Hide data repr'><svg class='icon xr-icon-database'><use xlink:href='#icon-database'></use></svg></label><div class='xr-var-attrs'><dl class='xr-attrs'><dt><span>unit :</span></dt><dd>deg</dd></dl></div><div class='xr-var-data'><pre>[35136 values with dtype=float64]</pre></div></li><li class='xr-var-item'><div class='xr-var-name'><span>RF</span></div><div class='xr-var-dims'>(Timestamp, station)</div><div class='xr-var-dtype'>float64</div><div class='xr-var-preview xr-preview'>...</div><input id='attrs-3e719cf6-0f56-4e5a-9d3d-d71af3d9b3ea' class='xr-var-attrs-in' type='checkbox' ><label for='attrs-3e719cf6-0f56-4e5a-9d3d-d71af3d9b3ea' title='Show/Hide attributes'><svg class='icon xr-icon-file-text2'><use xlink:href='#icon-file-text2'></use></svg></label><input id='data-f3dc91e9-41ff-450a-a139-2a876993d435' class='xr-var-data-in' type='checkbox'><label for='data-f3dc91e9-41ff-450a-a139-2a876993d435' title='Show/Hide data repr'><svg class='icon xr-icon-database'><use xlink:href='#icon-database'></use></svg></label><div class='xr-var-attrs'><dl class='xr-attrs'><dt><span>unit :</span></dt><dd>mm</dd></dl></div><div class='xr-var-data'><pre>[35136 values with dtype=float64]</pre></div></li><li class='xr-var-item'><div class='xr-var-name'><span>TOT-RF</span></div><div class='xr-var-dims'>(Timestamp, station)</div><div class='xr-var-dtype'>float64</div><div class='xr-var-preview xr-preview'>...</div><input id='attrs-01575926-8edc-4ed7-b00f-1acf9234998f' class='xr-var-attrs-in' type='checkbox' ><label for='attrs-01575926-8edc-4ed7-b00f-1acf9234998f' title='Show/Hide attributes'><svg class='icon xr-icon-file-text2'><use xlink:href='#icon-file-text2'></use></svg></label><input id='data-874123a0-e4e7-48bf-9991-884718bb0b41' class='xr-var-data-in' type='checkbox'><label for='data-874123a0-e4e7-48bf-9991-884718bb0b41' title='Show/Hide data repr'><svg class='icon xr-icon-database'><use xlink:href='#icon-database'></use></svg></label><div class='xr-var-attrs'><dl class='xr-attrs'><dt><span>unit :</span></dt><dd>mm</dd></dl></div><div class='xr-var-data'><pre>[35136 values with dtype=float64]</pre></div></li><li class='xr-var-item'><div class='xr-var-name'><span>SR</span></div><div class='xr-var-dims'>(Timestamp, station)</div><div class='xr-var-dtype'>float64</div><div class='xr-var-preview xr-preview'>...</div><input id='attrs-79738ae3-7aa5-4315-9558-ee59ebfe876a' class='xr-var-attrs-in' type='checkbox' ><label for='attrs-79738ae3-7aa5-4315-9558-ee59ebfe876a' title='Show/Hide attributes'><svg class='icon xr-icon-file-text2'><use xlink:href='#icon-file-text2'></use></svg></label><input id='data-52d31ad6-0fe4-4a75-b147-1be2d4b025d9' class='xr-var-data-in' type='checkbox'><label for='data-52d31ad6-0fe4-4a75-b147-1be2d4b025d9' title='Show/Hide data repr'><svg class='icon xr-icon-database'><use xlink:href='#icon-database'></use></svg></label><div class='xr-var-attrs'><dl class='xr-attrs'><dt><span>unit :</span></dt><dd>W/mt2</dd></dl></div><div class='xr-var-data'><pre>[35136 values with dtype=float64]</pre></div></li><li class='xr-var-item'><div class='xr-var-name'><span>BP</span></div><div class='xr-var-dims'>(Timestamp, station)</div><div class='xr-var-dtype'>float64</div><div class='xr-var-preview xr-preview'>...</div><input id='attrs-f157c507-ef6a-4bce-a6d8-3b576e0eeda6' class='xr-var-attrs-in' type='checkbox' ><label for='attrs-f157c507-ef6a-4bce-a6d8-3b576e0eeda6' title='Show/Hide attributes'><svg class='icon xr-icon-file-text2'><use xlink:href='#icon-file-text2'></use></svg></label><input id='data-ed96914f-ad37-404e-b07a-acd71770f45f' class='xr-var-data-in' type='checkbox'><label for='data-ed96914f-ad37-404e-b07a-acd71770f45f' title='Show/Hide data repr'><svg class='icon xr-icon-database'><use xlink:href='#icon-database'></use></svg></label><div class='xr-var-attrs'><dl class='xr-attrs'><dt><span>unit :</span></dt><dd>mmHg</dd></dl></div><div class='xr-var-data'><pre>[35136 values with dtype=float64]</pre></div></li><li class='xr-var-item'><div class='xr-var-name'><span>VWS</span></div><div class='xr-var-dims'>(Timestamp, station)</div><div class='xr-var-dtype'>float64</div><div class='xr-var-preview xr-preview'>...</div><input id='attrs-c4dc53c0-8f88-480d-9631-bd9b75f7f1a9' class='xr-var-attrs-in' type='checkbox' ><label for='attrs-c4dc53c0-8f88-480d-9631-bd9b75f7f1a9' title='Show/Hide attributes'><svg class='icon xr-icon-file-text2'><use xlink:href='#icon-file-text2'></use></svg></label><input id='data-c9bbdd70-90aa-4643-bea5-5ce432b7b2d2' class='xr-var-data-in' type='checkbox'><label for='data-c9bbdd70-90aa-4643-bea5-5ce432b7b2d2' title='Show/Hide data repr'><svg class='icon xr-icon-database'><use xlink:href='#icon-database'></use></svg></label><div class='xr-var-attrs'><dl class='xr-attrs'><dt><span>unit :</span></dt><dd>m/s</dd></dl></div><div class='xr-var-data'><pre>[35136 values with dtype=float64]</pre></div></li></ul></div></li><li class='xr-section-item'><input id='section-685a8ae0-a988-47b4-90f2-d826b40bd77f' class='xr-section-summary-in' type='checkbox'  ><label for='section-685a8ae0-a988-47b4-90f2-d826b40bd77f' class='xr-section-summary' >Indexes: <span>(2)</span></label><div class='xr-section-inline-details'></div><div class='xr-section-details'><ul class='xr-var-list'><li class='xr-var-item'><div class='xr-index-name'><div>Timestamp</div></div><div class='xr-index-preview'>PandasIndex</div><div></div><input id='index-7ff780b0-648e-4f0b-b27d-ec7a210e9bff' class='xr-index-data-in' type='checkbox'/><label for='index-7ff780b0-648e-4f0b-b27d-ec7a210e9bff' title='Show/Hide index repr'><svg class='icon xr-icon-database'><use xlink:href='#icon-database'></use></svg></label><div class='xr-index-data'><pre>PandasIndex(DatetimeIndex([&#x27;2020-01-01 00:00:00&#x27;, &#x27;2020-01-01 00:15:00&#x27;,\n",
       "               &#x27;2020-01-01 00:30:00&#x27;, &#x27;2020-01-01 00:45:00&#x27;,\n",
       "               &#x27;2020-01-01 01:00:00&#x27;, &#x27;2020-01-01 01:15:00&#x27;,\n",
       "               &#x27;2020-01-01 01:30:00&#x27;, &#x27;2020-01-01 01:45:00&#x27;,\n",
       "               &#x27;2020-01-01 02:00:00&#x27;, &#x27;2020-01-01 02:15:00&#x27;,\n",
       "               ...\n",
       "               &#x27;2020-12-31 21:30:00&#x27;, &#x27;2020-12-31 21:45:00&#x27;,\n",
       "               &#x27;2020-12-31 22:00:00&#x27;, &#x27;2020-12-31 22:15:00&#x27;,\n",
       "               &#x27;2020-12-31 22:30:00&#x27;, &#x27;2020-12-31 22:45:00&#x27;,\n",
       "               &#x27;2020-12-31 23:00:00&#x27;, &#x27;2020-12-31 23:15:00&#x27;,\n",
       "               &#x27;2020-12-31 23:30:00&#x27;, &#x27;2020-12-31 23:45:00&#x27;],\n",
       "              dtype=&#x27;datetime64[ns]&#x27;, name=&#x27;Timestamp&#x27;, length=35136, freq=None))</pre></div></li><li class='xr-var-item'><div class='xr-index-name'><div>station</div></div><div class='xr-index-preview'>PandasIndex</div><div></div><input id='index-29a9ebd9-be48-4279-a93c-6ff9a114a634' class='xr-index-data-in' type='checkbox'/><label for='index-29a9ebd9-be48-4279-a93c-6ff9a114a634' title='Show/Hide index repr'><svg class='icon xr-icon-database'><use xlink:href='#icon-database'></use></svg></label><div class='xr-index-data'><pre>PandasIndex(Index([&#x27;Kalal Majra, Khanna - PPCB&#x27;], dtype=&#x27;object&#x27;, name=&#x27;station&#x27;))</pre></div></li></ul></div></li><li class='xr-section-item'><input id='section-7d728e08-ec72-4852-a668-f1af51cb5fc2' class='xr-section-summary-in' type='checkbox' disabled ><label for='section-7d728e08-ec72-4852-a668-f1af51cb5fc2' class='xr-section-summary'  title='Expand/collapse section'>Attributes: <span>(0)</span></label><div class='xr-section-inline-details'></div><div class='xr-section-details'><dl class='xr-attrs'></dl></div></li></ul></div></div>"
      ],
      "text/plain": [
       "<xarray.Dataset>\n",
       "Dimensions:      (Timestamp: 35136, station: 1)\n",
       "Coordinates:\n",
       "  * Timestamp    (Timestamp) datetime64[ns] 2020-01-01 ... 2020-12-31T23:45:00\n",
       "  * station      (station) object 'Kalal Majra, Khanna - PPCB'\n",
       "    longitude    (station) float64 ...\n",
       "    latitude     (station) float64 ...\n",
       "Data variables: (12/24)\n",
       "    PM2.5        (Timestamp, station) float64 ...\n",
       "    PM10         (Timestamp, station) float64 ...\n",
       "    NO           (Timestamp, station) float64 ...\n",
       "    NO2          (Timestamp, station) float64 ...\n",
       "    NOx          (Timestamp, station) float64 ...\n",
       "    NH3          (Timestamp, station) float64 ...\n",
       "    ...           ...\n",
       "    WD           (Timestamp, station) float64 ...\n",
       "    RF           (Timestamp, station) float64 ...\n",
       "    TOT-RF       (Timestamp, station) float64 ...\n",
       "    SR           (Timestamp, station) float64 ...\n",
       "    BP           (Timestamp, station) float64 ...\n",
       "    VWS          (Timestamp, station) float64 ..."
      ]
     },
     "execution_count": 8,
     "metadata": {},
     "output_type": "execute_result"
    }
   ],
   "source": [
    "def process_file(file):\n",
    "    try:\n",
    "        df = pd.read_csv(file)\n",
    "        state_name = file.split(\"/\")[-4]\n",
    "        city_name = file.split(\"/\")[-3]\n",
    "        station_name = file.split(\"/\")[-2]\n",
    "        if len(df) == 0:\n",
    "            return None\n",
    "        df[\"Timestamp\"] = pd.to_datetime(df[\"Timestamp\"], format=\"%Y-%m-%d %H:%M:%S\")\n",
    "        lon = station_data[station_name][\"longitude\"]\n",
    "        lat = station_data[station_name][\"latitude\"]\n",
    "        df[\"station\"] = station_name\n",
    "        df.set_index([\"Timestamp\", \"station\"], inplace=True)\n",
    "        ds = df.to_xarray()\n",
    "        ds.coords[\"longitude\"] = (\"station\", [lon])\n",
    "        ds.coords[\"latitude\"] = (\"station\", [lat])\n",
    "        \n",
    "        # preprocess variable names\n",
    "        for var_name in ds.data_vars:\n",
    "            # print(var_name)\n",
    "            name, unit = var_name.split(\"(\")\n",
    "            unit = unit.replace(\")\", \"\")\n",
    "            # add metadata\n",
    "            ds[var_name].attrs[\"unit\"] = unit.strip()\n",
    "            # change variable name\n",
    "            # print(name, unit)\n",
    "            name = name.strip()\n",
    "            ds = ds.rename({var_name: name})\n",
    "        \n",
    "        base_path = \"/home/patel_zeel/cpcb_helper/nc_files\"\n",
    "        mid_path = f\"{state_name}/{city_name}/{station_name}\"\n",
    "        save_dir = join(base_path, mid_path)\n",
    "        os.makedirs(save_dir, exist_ok=True)\n",
    "        save_path = join(save_dir, file.split('/')[-1].replace('.csv', '.nc'))\n",
    "        ds.to_netcdf(save_path)\n",
    "        return save_path\n",
    "\n",
    "    except Exception as e:\n",
    "        print(e)\n",
    "        raise e\n",
    "\n",
    "example_path = process_file(files[0])\n",
    "print(example_path)\n",
    "with xr.open_dataset(example_path) as ds:\n",
    "    pass\n",
    "ds"
   ]
  },
  {
   "cell_type": "code",
   "execution_count": 9,
   "metadata": {},
   "outputs": [
    {
     "data": {
      "application/vnd.jupyter.widget-view+json": {
       "model_id": "9864118370f148dc83005245bfc32477",
       "version_major": 2,
       "version_minor": 0
      },
      "text/plain": [
       "  0%|          | 0/3080 [00:00<?, ?it/s]"
      ]
     },
     "metadata": {},
     "output_type": "display_data"
    }
   ],
   "source": [
    "nc_data_list = Parallel(n_jobs=32)(delayed(process_file)(file) for file in tqdm(files))"
   ]
  },
  {
   "cell_type": "markdown",
   "metadata": {},
   "source": [
    "Filter None files because of 0 entries in the CSV."
   ]
  },
  {
   "cell_type": "code",
   "execution_count": 13,
   "metadata": {},
   "outputs": [
    {
     "data": {
      "text/plain": [
       "3080"
      ]
     },
     "execution_count": 13,
     "metadata": {},
     "output_type": "execute_result"
    }
   ],
   "source": [
    "len(nc_data_list)"
   ]
  },
  {
   "cell_type": "code",
   "execution_count": 14,
   "metadata": {},
   "outputs": [
    {
     "data": {
      "text/plain": [
       "2954"
      ]
     },
     "execution_count": 14,
     "metadata": {},
     "output_type": "execute_result"
    }
   ],
   "source": [
    "clean_nc_data_list = [nc_data for nc_data in nc_data_list if nc_data is not None]\n",
    "len(clean_nc_data_list)"
   ]
  },
  {
   "cell_type": "markdown",
   "metadata": {},
   "source": [
    "## Export station data as csv"
   ]
  },
  {
   "cell_type": "code",
   "execution_count": 18,
   "metadata": {},
   "outputs": [
    {
     "data": {
      "text/html": [
       "<div>\n",
       "<style scoped>\n",
       "    .dataframe tbody tr th:only-of-type {\n",
       "        vertical-align: middle;\n",
       "    }\n",
       "\n",
       "    .dataframe tbody tr th {\n",
       "        vertical-align: top;\n",
       "    }\n",
       "\n",
       "    .dataframe thead th {\n",
       "        text-align: right;\n",
       "    }\n",
       "</style>\n",
       "<table border=\"1\" class=\"dataframe\">\n",
       "  <thead>\n",
       "    <tr style=\"text-align: right;\">\n",
       "      <th></th>\n",
       "      <th>station</th>\n",
       "      <th>address</th>\n",
       "      <th>latitude</th>\n",
       "      <th>longitude</th>\n",
       "    </tr>\n",
       "  </thead>\n",
       "  <tbody>\n",
       "    <tr>\n",
       "      <th>0</th>\n",
       "      <td>SIDCO Kurichi, Coimbatore - TNPCB</td>\n",
       "      <td>SIDCO Kurichi, Coimbatore, Tamil Nadu.</td>\n",
       "      <td>10.942451</td>\n",
       "      <td>76.978996</td>\n",
       "    </tr>\n",
       "    <tr>\n",
       "      <th>1</th>\n",
       "      <td>Muradpur, Patna - BSPCB</td>\n",
       "      <td>S K Memorial Hall Premises, Near Gandhi Maidan...</td>\n",
       "      <td>25.619651</td>\n",
       "      <td>85.147382</td>\n",
       "    </tr>\n",
       "  </tbody>\n",
       "</table>\n",
       "</div>"
      ],
      "text/plain": [
       "                             station  \\\n",
       "0  SIDCO Kurichi, Coimbatore - TNPCB   \n",
       "1            Muradpur, Patna - BSPCB   \n",
       "\n",
       "                                             address   latitude  longitude  \n",
       "0             SIDCO Kurichi, Coimbatore, Tamil Nadu.  10.942451  76.978996  \n",
       "1  S K Memorial Hall Premises, Near Gandhi Maidan...  25.619651  85.147382  "
      ]
     },
     "execution_count": 18,
     "metadata": {},
     "output_type": "execute_result"
    }
   ],
   "source": [
    "df = pd.DataFrame(station_data).T\n",
    "df.index.name = \"station\"\n",
    "df.reset_index(inplace=True)\n",
    "df.head(2)"
   ]
  },
  {
   "cell_type": "code",
   "execution_count": 19,
   "metadata": {},
   "outputs": [],
   "source": [
    "df.to_csv(\"station_data.csv\", index=None)"
   ]
  },
  {
   "cell_type": "markdown",
   "metadata": {},
   "source": [
    "## Some postprocessing due to duplication of data"
   ]
  },
  {
   "cell_type": "markdown",
   "metadata": {},
   "source": [
    "Som states have same district names and thus data from stations from both districts are present at both places. We need to delete irrelevant data from corresponding states."
   ]
  },
  {
   "cell_type": "code",
   "execution_count": 3,
   "metadata": {},
   "outputs": [
    {
     "name": "stdout",
     "output_type": "stream",
     "text": [
      "rm: cannot remove '../another_files/Bihar/Aurangabad/More Chowk Waluj, Aurangabad - MPCB/': No such file or directory\n",
      "rm: cannot remove '../nc_files/Bihar/Aurangabad/More Chowk Waluj, Aurangabad - MPCB/': No such file or directory\n"
     ]
    }
   ],
   "source": [
    "!rm -r \"../another_files/Bihar/Aurangabad/More Chowk Waluj, Aurangabad - MPCB/\"\n",
    "!rm -r \"../nc_files/Bihar/Aurangabad/More Chowk Waluj, Aurangabad - MPCB/\""
   ]
  },
  {
   "cell_type": "code",
   "execution_count": 5,
   "metadata": {},
   "outputs": [
    {
     "name": "stdout",
     "output_type": "stream",
     "text": [
      "rm: cannot remove '../another_files/Bihar/Aurangabad/MIDC Chilkalthana, Aurangabad - MPCB/': No such file or directory\n",
      "rm: cannot remove '../nc_files/Bihar/Aurangabad/MIDC Chilkalthana, Aurangabad - MPCB/': No such file or directory\n"
     ]
    }
   ],
   "source": [
    "!rm -r \"../another_files/Bihar/Aurangabad/MIDC Chilkalthana, Aurangabad - MPCB/\"\n",
    "!rm -r \"../nc_files/Bihar/Aurangabad/MIDC Chilkalthana, Aurangabad - MPCB/\""
   ]
  },
  {
   "cell_type": "code",
   "execution_count": 7,
   "metadata": {},
   "outputs": [
    {
     "name": "stdout",
     "output_type": "stream",
     "text": [
      "rm: cannot remove '../another_files/Maharashtra/Aurangabad/Gurdeo Nagar, Aurangabad - BSPCB/': No such file or directory\n",
      "rm: cannot remove '../nc_files/Maharashtra/Aurangabad/Gurdeo Nagar, Aurangabad - BSPCB/': No such file or directory\n"
     ]
    }
   ],
   "source": [
    "!rm -r \"../another_files/Maharashtra/Aurangabad/Gurdeo Nagar, Aurangabad - BSPCB/\"\n",
    "!rm -r \"../nc_files/Maharashtra/Aurangabad/Gurdeo Nagar, Aurangabad - BSPCB/\""
   ]
  },
  {
   "cell_type": "code",
   "execution_count": 9,
   "metadata": {},
   "outputs": [
    {
     "name": "stdout",
     "output_type": "stream",
     "text": [
      "rm: cannot remove '../another_files/Bihar/Aurangabad/Rachnakar Colony, Aurangabad - MPCB/': No such file or directory\n",
      "rm: cannot remove '../nc_files/Bihar/Aurangabad/Rachnakar Colony, Aurangabad - MPCB/': No such file or directory\n"
     ]
    }
   ],
   "source": [
    "!rm -r \"../another_files/Bihar/Aurangabad/Rachnakar Colony, Aurangabad - MPCB/\"\n",
    "!rm -r \"../nc_files/Bihar/Aurangabad/Rachnakar Colony, Aurangabad - MPCB/\""
   ]
  }
 ],
 "metadata": {
  "kernelspec": {
   "display_name": "base",
   "language": "python",
   "name": "python3"
  },
  "language_info": {
   "codemirror_mode": {
    "name": "ipython",
    "version": 3
   },
   "file_extension": ".py",
   "mimetype": "text/x-python",
   "name": "python",
   "nbconvert_exporter": "python",
   "pygments_lexer": "ipython3",
   "version": "3.11.5"
  }
 },
 "nbformat": 4,
 "nbformat_minor": 2
}
