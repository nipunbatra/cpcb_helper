{
 "cells": [
  {
   "cell_type": "code",
   "execution_count": 1,
   "metadata": {},
   "outputs": [],
   "source": [
    "try:\n",
    "    import selenium\n",
    "except ModuleNotFoundError:\n",
    "    %pip install selenium\n",
    "\n",
    "import numpy as np\n",
    "import pandas as pd\n",
    "\n",
    "from tqdm.notebook import tqdm\n",
    "from time import sleep\n",
    "from selenium import webdriver\n",
    "from selenium.webdriver.support.ui import Select\n",
    "from selenium.webdriver.common.by import By\n",
    "from selenium.webdriver.support.ui import WebDriverWait\n",
    "from selenium.webdriver.support import expected_conditions as EC"
   ]
  },
  {
   "cell_type": "code",
   "execution_count": 2,
   "metadata": {},
   "outputs": [],
   "source": [
    "def get_value(element):\n",
    "    value = element.get_attribute(\"value\")\n",
    "    if value == \"-1\":\n",
    "        return None\n",
    "    return value\n",
    "\n",
    "# Set up WebDriver\n",
    "driver = webdriver.Chrome()\n",
    "\n",
    "# Navigate to the website and manually solve the CAPTCHA\n",
    "driver.get(\"https://airquality.cpcb.gov.in/ccr/#/caaqm-dashboard-all/caaqm-landing/caaqm-data-repository\")"
   ]
  },
  {
   "cell_type": "code",
   "execution_count": 3,
   "metadata": {},
   "outputs": [
    {
     "name": "stdout",
     "output_type": "stream",
     "text": [
      "Scraping state: Andhra Pradesh\n",
      "Scraping city: Amaravati\n",
      "Scraping station: Secretariat, Amaravati - APPCB\n"
     ]
    }
   ],
   "source": [
    "elements = driver.find_elements(By.CSS_SELECTOR, \"ng-select\")\n",
    "\n",
    "# Select \"Raw data\" option\n",
    "data_type = elements[0]\n",
    "data_type.click()\n",
    "data_type.find_elements(By.TAG_NAME, \"li\")[0].click()\n",
    "\n",
    "# Select \"15 min\" frequency\n",
    "frequency = elements[1]\n",
    "frequency.click()\n",
    "frequency.find_elements(By.TAG_NAME, \"li\")[0].click()\n",
    "\n",
    "# Select state\n",
    "state_element = elements[2]\n",
    "state_element.click()\n",
    "states = state_element.find_elements(By.TAG_NAME, \"li\")\n",
    "for state in states:\n",
    "    print(\"Scraping state:\", state.text)\n",
    "    \n",
    "    state.click()\n",
    "    \n",
    "    # Select city\n",
    "    city_element = elements[3]\n",
    "    city_element.click()\n",
    "    cities = city_element.find_elements(By.TAG_NAME, \"li\")\n",
    "    \n",
    "    for city in cities:\n",
    "        print(\"Scraping city:\", city.text)\n",
    "        city.click()\n",
    "        \n",
    "        # Select station\n",
    "        station_element = elements[4]\n",
    "        station_element.click()\n",
    "        \n",
    "        stations = station_element.find_elements(By.TAG_NAME, \"li\")\n",
    "\n",
    "        for station in stations:\n",
    "            print(\"Scraping station:\", station.text)\n",
    "            station.click()\n",
    "            \n",
    "            # Search Submit button and press it\n",
    "            buttons = driver.find_elements(By.TAG_NAME, \"button\")\n",
    "            buttons[1].click()\n",
    "            \n",
    "            downloads = driver.find_elements(By.CLASS_NAME, \"fa-download\")\n",
    "            for download in downloads:\n",
    "                download.click()\n",
    "                sleep(5)\n",
    "            \n",
    "            break\n",
    "        break\n",
    "    break"
   ]
  }
 ],
 "metadata": {
  "kernelspec": {
   "display_name": "base",
   "language": "python",
   "name": "python3"
  },
  "language_info": {
   "codemirror_mode": {
    "name": "ipython",
    "version": 3
   },
   "file_extension": ".py",
   "mimetype": "text/x-python",
   "name": "python",
   "nbconvert_exporter": "python",
   "pygments_lexer": "ipython3",
   "version": "3.12.2"
  }
 },
 "nbformat": 4,
 "nbformat_minor": 2
}
